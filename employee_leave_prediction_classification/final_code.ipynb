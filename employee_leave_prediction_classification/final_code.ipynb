{
 "cells": [
  {
   "cell_type": "code",
   "execution_count": 1,
   "id": "4d2dc0be",
   "metadata": {
    "scrolled": true
   },
   "outputs": [
    {
     "name": "stdout",
     "output_type": "stream",
     "text": [
      "Requirement already satisfied: category_encoders in /Users/mac/opt/anaconda3/envs/new_env/lib/python3.10/site-packages (2.5.1.post0)\n",
      "Requirement already satisfied: shap in /Users/mac/opt/anaconda3/envs/new_env/lib/python3.10/site-packages (0.41.0)\n",
      "Requirement already satisfied: xgboost in /Users/mac/opt/anaconda3/envs/new_env/lib/python3.10/site-packages (1.7.1)\n",
      "Requirement already satisfied: scipy in /Users/mac/opt/anaconda3/envs/new_env/lib/python3.10/site-packages (1.9.3)\n",
      "Requirement already satisfied: scikit-learn>=0.20.0 in /Users/mac/opt/anaconda3/envs/new_env/lib/python3.10/site-packages (from category_encoders) (1.1.3)\n",
      "Requirement already satisfied: pandas>=1.0.5 in /Users/mac/opt/anaconda3/envs/new_env/lib/python3.10/site-packages (from category_encoders) (1.5.1)\n",
      "Requirement already satisfied: statsmodels>=0.9.0 in /Users/mac/opt/anaconda3/envs/new_env/lib/python3.10/site-packages (from category_encoders) (0.13.5)\n",
      "Requirement already satisfied: patsy>=0.5.1 in /Users/mac/opt/anaconda3/envs/new_env/lib/python3.10/site-packages (from category_encoders) (0.5.3)\n",
      "Requirement already satisfied: numpy>=1.14.0 in /Users/mac/opt/anaconda3/envs/new_env/lib/python3.10/site-packages (from category_encoders) (1.22.4)\n",
      "Requirement already satisfied: slicer==0.0.7 in /Users/mac/opt/anaconda3/envs/new_env/lib/python3.10/site-packages (from shap) (0.0.7)\n",
      "Requirement already satisfied: numba in /Users/mac/opt/anaconda3/envs/new_env/lib/python3.10/site-packages (from shap) (0.56.4)\n",
      "Requirement already satisfied: tqdm>4.25.0 in /Users/mac/opt/anaconda3/envs/new_env/lib/python3.10/site-packages (from shap) (4.64.1)\n",
      "Requirement already satisfied: packaging>20.9 in /Users/mac/opt/anaconda3/envs/new_env/lib/python3.10/site-packages (from shap) (21.3)\n",
      "Requirement already satisfied: cloudpickle in /Users/mac/opt/anaconda3/envs/new_env/lib/python3.10/site-packages (from shap) (2.2.0)\n",
      "Requirement already satisfied: pyparsing!=3.0.5,>=2.0.2 in /Users/mac/opt/anaconda3/envs/new_env/lib/python3.10/site-packages (from packaging>20.9->shap) (3.0.9)\n",
      "Requirement already satisfied: pytz>=2020.1 in /Users/mac/opt/anaconda3/envs/new_env/lib/python3.10/site-packages (from pandas>=1.0.5->category_encoders) (2022.1)\n",
      "Requirement already satisfied: python-dateutil>=2.8.1 in /Users/mac/opt/anaconda3/envs/new_env/lib/python3.10/site-packages (from pandas>=1.0.5->category_encoders) (2.8.2)\n",
      "Requirement already satisfied: six in /Users/mac/opt/anaconda3/envs/new_env/lib/python3.10/site-packages (from patsy>=0.5.1->category_encoders) (1.16.0)\n",
      "Requirement already satisfied: threadpoolctl>=2.0.0 in /Users/mac/opt/anaconda3/envs/new_env/lib/python3.10/site-packages (from scikit-learn>=0.20.0->category_encoders) (2.2.0)\n",
      "Requirement already satisfied: joblib>=1.0.0 in /Users/mac/opt/anaconda3/envs/new_env/lib/python3.10/site-packages (from scikit-learn>=0.20.0->category_encoders) (1.1.1)\n",
      "Requirement already satisfied: llvmlite<0.40,>=0.39.0dev0 in /Users/mac/opt/anaconda3/envs/new_env/lib/python3.10/site-packages (from numba->shap) (0.39.1)\n",
      "Requirement already satisfied: setuptools in /Users/mac/opt/anaconda3/envs/new_env/lib/python3.10/site-packages (from numba->shap) (65.5.0)\n"
     ]
    }
   ],
   "source": [
    "!pip install category_encoders shap xgboost scipy"
   ]
  },
  {
   "cell_type": "code",
   "execution_count": 2,
   "id": "5ecce12b",
   "metadata": {},
   "outputs": [],
   "source": [
    "import pandas as pd\n",
    "import numpy as np\n",
    "import matplotlib.pyplot as plt\n",
    "from datetime import datetime, timedelta\n",
    "import seaborn as sns\n",
    "%matplotlib inline\n",
    "\n",
    "from sklearn.model_selection import train_test_split, learning_curve, GridSearchCV, RandomizedSearchCV, cross_val_score\n",
    "\n",
    "from sklearn.metrics import roc_auc_score, accuracy_score, f1_score, classification_report, roc_curve, precision_score, recall_score, make_scorer\n",
    "from sklearn import metrics\n",
    "from sklearn.ensemble import GradientBoostingClassifier, RandomForestClassifier, ExtraTreesClassifier, AdaBoostClassifier\n",
    "\n",
    "from sklearn.tree import DecisionTreeClassifier\n",
    "\n",
    "from xgboost import XGBClassifier\n",
    "import xgboost as xgb\n",
    "from xgboost import plot_importance\n",
    "from xgboost.sklearn import XGBClassifier\n",
    "\n",
    "import warnings\n",
    "import shap\n",
    "import category_encoders as ce\n",
    "\n",
    "from scipy.stats import chi2_contingency\n"
   ]
  },
  {
   "cell_type": "code",
   "execution_count": 3,
   "id": "af2b3397",
   "metadata": {},
   "outputs": [],
   "source": [
    "data = pd.read_csv('HR_comma_sep.csv')"
   ]
  },
  {
   "cell_type": "code",
   "execution_count": 4,
   "id": "28c665ab",
   "metadata": {},
   "outputs": [
    {
     "data": {
      "text/html": [
       "<div>\n",
       "<style scoped>\n",
       "    .dataframe tbody tr th:only-of-type {\n",
       "        vertical-align: middle;\n",
       "    }\n",
       "\n",
       "    .dataframe tbody tr th {\n",
       "        vertical-align: top;\n",
       "    }\n",
       "\n",
       "    .dataframe thead th {\n",
       "        text-align: right;\n",
       "    }\n",
       "</style>\n",
       "<table border=\"1\" class=\"dataframe\">\n",
       "  <thead>\n",
       "    <tr style=\"text-align: right;\">\n",
       "      <th></th>\n",
       "      <th>satisfaction_level</th>\n",
       "      <th>last_evaluation</th>\n",
       "      <th>number_project</th>\n",
       "      <th>average_montly_hours</th>\n",
       "      <th>time_spend_company</th>\n",
       "      <th>Work_accident</th>\n",
       "      <th>left</th>\n",
       "      <th>promotion_last_5years</th>\n",
       "      <th>sales</th>\n",
       "      <th>salary</th>\n",
       "    </tr>\n",
       "  </thead>\n",
       "  <tbody>\n",
       "    <tr>\n",
       "      <th>0</th>\n",
       "      <td>0.38</td>\n",
       "      <td>0.53</td>\n",
       "      <td>2</td>\n",
       "      <td>157</td>\n",
       "      <td>3</td>\n",
       "      <td>0</td>\n",
       "      <td>1</td>\n",
       "      <td>0</td>\n",
       "      <td>sales</td>\n",
       "      <td>low</td>\n",
       "    </tr>\n",
       "    <tr>\n",
       "      <th>1</th>\n",
       "      <td>0.80</td>\n",
       "      <td>0.86</td>\n",
       "      <td>5</td>\n",
       "      <td>262</td>\n",
       "      <td>6</td>\n",
       "      <td>0</td>\n",
       "      <td>1</td>\n",
       "      <td>0</td>\n",
       "      <td>sales</td>\n",
       "      <td>medium</td>\n",
       "    </tr>\n",
       "    <tr>\n",
       "      <th>2</th>\n",
       "      <td>0.11</td>\n",
       "      <td>0.88</td>\n",
       "      <td>7</td>\n",
       "      <td>272</td>\n",
       "      <td>4</td>\n",
       "      <td>0</td>\n",
       "      <td>1</td>\n",
       "      <td>0</td>\n",
       "      <td>sales</td>\n",
       "      <td>medium</td>\n",
       "    </tr>\n",
       "    <tr>\n",
       "      <th>3</th>\n",
       "      <td>0.72</td>\n",
       "      <td>0.87</td>\n",
       "      <td>5</td>\n",
       "      <td>223</td>\n",
       "      <td>5</td>\n",
       "      <td>0</td>\n",
       "      <td>1</td>\n",
       "      <td>0</td>\n",
       "      <td>sales</td>\n",
       "      <td>low</td>\n",
       "    </tr>\n",
       "    <tr>\n",
       "      <th>4</th>\n",
       "      <td>0.37</td>\n",
       "      <td>0.52</td>\n",
       "      <td>2</td>\n",
       "      <td>159</td>\n",
       "      <td>3</td>\n",
       "      <td>0</td>\n",
       "      <td>1</td>\n",
       "      <td>0</td>\n",
       "      <td>sales</td>\n",
       "      <td>low</td>\n",
       "    </tr>\n",
       "  </tbody>\n",
       "</table>\n",
       "</div>"
      ],
      "text/plain": [
       "   satisfaction_level  last_evaluation  number_project  average_montly_hours  \\\n",
       "0                0.38             0.53               2                   157   \n",
       "1                0.80             0.86               5                   262   \n",
       "2                0.11             0.88               7                   272   \n",
       "3                0.72             0.87               5                   223   \n",
       "4                0.37             0.52               2                   159   \n",
       "\n",
       "   time_spend_company  Work_accident  left  promotion_last_5years  sales  \\\n",
       "0                   3              0     1                      0  sales   \n",
       "1                   6              0     1                      0  sales   \n",
       "2                   4              0     1                      0  sales   \n",
       "3                   5              0     1                      0  sales   \n",
       "4                   3              0     1                      0  sales   \n",
       "\n",
       "   salary  \n",
       "0     low  \n",
       "1  medium  \n",
       "2  medium  \n",
       "3     low  \n",
       "4     low  "
      ]
     },
     "execution_count": 4,
     "metadata": {},
     "output_type": "execute_result"
    }
   ],
   "source": [
    "data.head()"
   ]
  },
  {
   "cell_type": "code",
   "execution_count": 5,
   "id": "9f92b9e5",
   "metadata": {},
   "outputs": [
    {
     "data": {
      "text/plain": [
       "(14999, 10)"
      ]
     },
     "execution_count": 5,
     "metadata": {},
     "output_type": "execute_result"
    }
   ],
   "source": [
    "data.shape"
   ]
  },
  {
   "cell_type": "code",
   "execution_count": 6,
   "id": "e2e3ff33",
   "metadata": {},
   "outputs": [
    {
     "data": {
      "text/plain": [
       "satisfaction_level       0\n",
       "last_evaluation          0\n",
       "number_project           0\n",
       "average_montly_hours     0\n",
       "time_spend_company       0\n",
       "Work_accident            0\n",
       "left                     0\n",
       "promotion_last_5years    0\n",
       "sales                    0\n",
       "salary                   0\n",
       "dtype: int64"
      ]
     },
     "execution_count": 6,
     "metadata": {},
     "output_type": "execute_result"
    }
   ],
   "source": [
    "data.isna().sum()"
   ]
  },
  {
   "cell_type": "code",
   "execution_count": 7,
   "id": "1ac4f01f",
   "metadata": {},
   "outputs": [
    {
     "data": {
      "text/plain": [
       "satisfaction_level       float64\n",
       "last_evaluation          float64\n",
       "number_project             int64\n",
       "average_montly_hours       int64\n",
       "time_spend_company         int64\n",
       "Work_accident              int64\n",
       "left                       int64\n",
       "promotion_last_5years      int64\n",
       "sales                     object\n",
       "salary                    object\n",
       "dtype: object"
      ]
     },
     "execution_count": 7,
     "metadata": {},
     "output_type": "execute_result"
    }
   ],
   "source": [
    "data.dtypes"
   ]
  },
  {
   "cell_type": "code",
   "execution_count": 8,
   "id": "9863aa06",
   "metadata": {},
   "outputs": [
    {
     "data": {
      "text/plain": [
       "0    11428\n",
       "1     3571\n",
       "Name: left, dtype: int64"
      ]
     },
     "execution_count": 8,
     "metadata": {},
     "output_type": "execute_result"
    }
   ],
   "source": [
    "data.left.value_counts()"
   ]
  },
  {
   "cell_type": "code",
   "execution_count": 9,
   "id": "d01ce97f",
   "metadata": {},
   "outputs": [
    {
     "data": {
      "text/html": [
       "<div>\n",
       "<style scoped>\n",
       "    .dataframe tbody tr th:only-of-type {\n",
       "        vertical-align: middle;\n",
       "    }\n",
       "\n",
       "    .dataframe tbody tr th {\n",
       "        vertical-align: top;\n",
       "    }\n",
       "\n",
       "    .dataframe thead th {\n",
       "        text-align: right;\n",
       "    }\n",
       "</style>\n",
       "<table border=\"1\" class=\"dataframe\">\n",
       "  <thead>\n",
       "    <tr style=\"text-align: right;\">\n",
       "      <th></th>\n",
       "      <th>satisfaction_level</th>\n",
       "      <th>last_evaluation</th>\n",
       "      <th>number_project</th>\n",
       "      <th>average_montly_hours</th>\n",
       "      <th>time_spend_company</th>\n",
       "      <th>Work_accident</th>\n",
       "      <th>left</th>\n",
       "      <th>promotion_last_5years</th>\n",
       "    </tr>\n",
       "  </thead>\n",
       "  <tbody>\n",
       "    <tr>\n",
       "      <th>count</th>\n",
       "      <td>14999.000000</td>\n",
       "      <td>14999.000000</td>\n",
       "      <td>14999.000000</td>\n",
       "      <td>14999.000000</td>\n",
       "      <td>14999.000000</td>\n",
       "      <td>14999.000000</td>\n",
       "      <td>14999.000000</td>\n",
       "      <td>14999.000000</td>\n",
       "    </tr>\n",
       "    <tr>\n",
       "      <th>mean</th>\n",
       "      <td>0.612834</td>\n",
       "      <td>0.716102</td>\n",
       "      <td>3.803054</td>\n",
       "      <td>201.050337</td>\n",
       "      <td>3.498233</td>\n",
       "      <td>0.144610</td>\n",
       "      <td>0.238083</td>\n",
       "      <td>0.021268</td>\n",
       "    </tr>\n",
       "    <tr>\n",
       "      <th>std</th>\n",
       "      <td>0.248631</td>\n",
       "      <td>0.171169</td>\n",
       "      <td>1.232592</td>\n",
       "      <td>49.943099</td>\n",
       "      <td>1.460136</td>\n",
       "      <td>0.351719</td>\n",
       "      <td>0.425924</td>\n",
       "      <td>0.144281</td>\n",
       "    </tr>\n",
       "    <tr>\n",
       "      <th>min</th>\n",
       "      <td>0.090000</td>\n",
       "      <td>0.360000</td>\n",
       "      <td>2.000000</td>\n",
       "      <td>96.000000</td>\n",
       "      <td>2.000000</td>\n",
       "      <td>0.000000</td>\n",
       "      <td>0.000000</td>\n",
       "      <td>0.000000</td>\n",
       "    </tr>\n",
       "    <tr>\n",
       "      <th>25%</th>\n",
       "      <td>0.440000</td>\n",
       "      <td>0.560000</td>\n",
       "      <td>3.000000</td>\n",
       "      <td>156.000000</td>\n",
       "      <td>3.000000</td>\n",
       "      <td>0.000000</td>\n",
       "      <td>0.000000</td>\n",
       "      <td>0.000000</td>\n",
       "    </tr>\n",
       "    <tr>\n",
       "      <th>50%</th>\n",
       "      <td>0.640000</td>\n",
       "      <td>0.720000</td>\n",
       "      <td>4.000000</td>\n",
       "      <td>200.000000</td>\n",
       "      <td>3.000000</td>\n",
       "      <td>0.000000</td>\n",
       "      <td>0.000000</td>\n",
       "      <td>0.000000</td>\n",
       "    </tr>\n",
       "    <tr>\n",
       "      <th>75%</th>\n",
       "      <td>0.820000</td>\n",
       "      <td>0.870000</td>\n",
       "      <td>5.000000</td>\n",
       "      <td>245.000000</td>\n",
       "      <td>4.000000</td>\n",
       "      <td>0.000000</td>\n",
       "      <td>0.000000</td>\n",
       "      <td>0.000000</td>\n",
       "    </tr>\n",
       "    <tr>\n",
       "      <th>max</th>\n",
       "      <td>1.000000</td>\n",
       "      <td>1.000000</td>\n",
       "      <td>7.000000</td>\n",
       "      <td>310.000000</td>\n",
       "      <td>10.000000</td>\n",
       "      <td>1.000000</td>\n",
       "      <td>1.000000</td>\n",
       "      <td>1.000000</td>\n",
       "    </tr>\n",
       "  </tbody>\n",
       "</table>\n",
       "</div>"
      ],
      "text/plain": [
       "       satisfaction_level  last_evaluation  number_project  \\\n",
       "count        14999.000000     14999.000000    14999.000000   \n",
       "mean             0.612834         0.716102        3.803054   \n",
       "std              0.248631         0.171169        1.232592   \n",
       "min              0.090000         0.360000        2.000000   \n",
       "25%              0.440000         0.560000        3.000000   \n",
       "50%              0.640000         0.720000        4.000000   \n",
       "75%              0.820000         0.870000        5.000000   \n",
       "max              1.000000         1.000000        7.000000   \n",
       "\n",
       "       average_montly_hours  time_spend_company  Work_accident          left  \\\n",
       "count          14999.000000        14999.000000   14999.000000  14999.000000   \n",
       "mean             201.050337            3.498233       0.144610      0.238083   \n",
       "std               49.943099            1.460136       0.351719      0.425924   \n",
       "min               96.000000            2.000000       0.000000      0.000000   \n",
       "25%              156.000000            3.000000       0.000000      0.000000   \n",
       "50%              200.000000            3.000000       0.000000      0.000000   \n",
       "75%              245.000000            4.000000       0.000000      0.000000   \n",
       "max              310.000000           10.000000       1.000000      1.000000   \n",
       "\n",
       "       promotion_last_5years  \n",
       "count           14999.000000  \n",
       "mean                0.021268  \n",
       "std                 0.144281  \n",
       "min                 0.000000  \n",
       "25%                 0.000000  \n",
       "50%                 0.000000  \n",
       "75%                 0.000000  \n",
       "max                 1.000000  "
      ]
     },
     "execution_count": 9,
     "metadata": {},
     "output_type": "execute_result"
    }
   ],
   "source": [
    "data.describe()"
   ]
  },
  {
   "cell_type": "code",
   "execution_count": 10,
   "id": "c6733cae",
   "metadata": {
    "scrolled": false
   },
   "outputs": [
    {
     "data": {
      "text/plain": [
       "<AxesSubplot: >"
      ]
     },
     "execution_count": 10,
     "metadata": {},
     "output_type": "execute_result"
    },
    {
     "data": {
      "image/png": "[encoded data removed]",
      "text/plain": [
       "<Figure size 900x800 with 2 Axes>"
      ]
     },
     "metadata": {},
     "output_type": "display_data"
    }
   ],
   "source": [
    "f, ax = plt.subplots(figsize=(9, 8))\n",
    "sns.heatmap(data.drop(columns=['sales', 'salary']).corr(), annot=True, linewidths=.5, fmt= '.4f', ax=ax)"
   ]
  },
  {
   "cell_type": "markdown",
   "id": "588fa946",
   "metadata": {},
   "source": [
    "# Exploratory Data Analysis"
   ]
  },
  {
   "cell_type": "markdown",
   "id": "6980c57f",
   "metadata": {},
   "source": [
    "### salary"
   ]
  },
  {
   "cell_type": "code",
   "execution_count": 11,
   "id": "141cb623",
   "metadata": {},
   "outputs": [
    {
     "data": {
      "text/html": [
       "<div>\n",
       "<style scoped>\n",
       "    .dataframe tbody tr th:only-of-type {\n",
       "        vertical-align: middle;\n",
       "    }\n",
       "\n",
       "    .dataframe tbody tr th {\n",
       "        vertical-align: top;\n",
       "    }\n",
       "\n",
       "    .dataframe thead th {\n",
       "        text-align: right;\n",
       "    }\n",
       "</style>\n",
       "<table border=\"1\" class=\"dataframe\">\n",
       "  <thead>\n",
       "    <tr style=\"text-align: right;\">\n",
       "      <th></th>\n",
       "      <th>salary</th>\n",
       "      <th>left</th>\n",
       "    </tr>\n",
       "  </thead>\n",
       "  <tbody>\n",
       "    <tr>\n",
       "      <th>1</th>\n",
       "      <td>low</td>\n",
       "      <td>0.296884</td>\n",
       "    </tr>\n",
       "    <tr>\n",
       "      <th>2</th>\n",
       "      <td>medium</td>\n",
       "      <td>0.204313</td>\n",
       "    </tr>\n",
       "    <tr>\n",
       "      <th>0</th>\n",
       "      <td>high</td>\n",
       "      <td>0.066289</td>\n",
       "    </tr>\n",
       "  </tbody>\n",
       "</table>\n",
       "</div>"
      ],
      "text/plain": [
       "   salary      left\n",
       "1     low  0.296884\n",
       "2  medium  0.204313\n",
       "0    high  0.066289"
      ]
     },
     "execution_count": 11,
     "metadata": {},
     "output_type": "execute_result"
    }
   ],
   "source": [
    "data[['salary', 'left']].groupby(['salary'], as_index=False).mean().sort_values(by='left', ascending=False)\n"
   ]
  },
  {
   "cell_type": "code",
   "execution_count": 12,
   "id": "3accd944",
   "metadata": {},
   "outputs": [
    {
     "data": {
      "text/plain": [
       "<seaborn.axisgrid.FacetGrid at 0x7faf404a1b10>"
      ]
     },
     "execution_count": 12,
     "metadata": {},
     "output_type": "execute_result"
    },
    {
     "data": {
      "image/png": "[encoded data removed]",
      "text/plain": [
       "<Figure size 600x300 with 2 Axes>"
      ]
     },
     "metadata": {},
     "output_type": "display_data"
    }
   ],
   "source": [
    "g = sns.FacetGrid(data, col='left')\n",
    "g.map(plt.hist, 'salary')"
   ]
  },
  {
   "cell_type": "code",
   "execution_count": 13,
   "id": "2026bc10",
   "metadata": {},
   "outputs": [
    {
     "data": {
      "text/html": [
       "<div>\n",
       "<style scoped>\n",
       "    .dataframe tbody tr th:only-of-type {\n",
       "        vertical-align: middle;\n",
       "    }\n",
       "\n",
       "    .dataframe tbody tr th {\n",
       "        vertical-align: top;\n",
       "    }\n",
       "\n",
       "    .dataframe thead th {\n",
       "        text-align: right;\n",
       "    }\n",
       "</style>\n",
       "<table border=\"1\" class=\"dataframe\">\n",
       "  <thead>\n",
       "    <tr style=\"text-align: right;\">\n",
       "      <th>salary</th>\n",
       "      <th>high</th>\n",
       "      <th>low</th>\n",
       "      <th>medium</th>\n",
       "    </tr>\n",
       "    <tr>\n",
       "      <th>left</th>\n",
       "      <th></th>\n",
       "      <th></th>\n",
       "      <th></th>\n",
       "    </tr>\n",
       "  </thead>\n",
       "  <tbody>\n",
       "    <tr>\n",
       "      <th>0</th>\n",
       "      <td>1155</td>\n",
       "      <td>5144</td>\n",
       "      <td>5129</td>\n",
       "    </tr>\n",
       "    <tr>\n",
       "      <th>1</th>\n",
       "      <td>82</td>\n",
       "      <td>2172</td>\n",
       "      <td>1317</td>\n",
       "    </tr>\n",
       "  </tbody>\n",
       "</table>\n",
       "</div>"
      ],
      "text/plain": [
       "salary  high   low  medium\n",
       "left                      \n",
       "0       1155  5144    5129\n",
       "1         82  2172    1317"
      ]
     },
     "execution_count": 13,
     "metadata": {},
     "output_type": "execute_result"
    }
   ],
   "source": [
    "pivot = pd.crosstab(data.left, data.salary)\n",
    "pivot"
   ]
  },
  {
   "cell_type": "code",
   "execution_count": 14,
   "id": "cc545845",
   "metadata": {},
   "outputs": [
    {
     "name": "stdout",
     "output_type": "stream",
     "text": [
      "p-value is 0.0000\n"
     ]
    }
   ],
   "source": [
    "g, p, dof, expctd = chi2_contingency(pivot)\n",
    "print(\"p-value is %.4f\" % p)"
   ]
  },
  {
   "cell_type": "markdown",
   "id": "1e932d21",
   "metadata": {},
   "source": [
    "### sales"
   ]
  },
  {
   "cell_type": "code",
   "execution_count": 15,
   "id": "dcf5e9b4",
   "metadata": {},
   "outputs": [
    {
     "data": {
      "text/html": [
       "<div>\n",
       "<style scoped>\n",
       "    .dataframe tbody tr th:only-of-type {\n",
       "        vertical-align: middle;\n",
       "    }\n",
       "\n",
       "    .dataframe tbody tr th {\n",
       "        vertical-align: top;\n",
       "    }\n",
       "\n",
       "    .dataframe thead th {\n",
       "        text-align: right;\n",
       "    }\n",
       "</style>\n",
       "<table border=\"1\" class=\"dataframe\">\n",
       "  <thead>\n",
       "    <tr style=\"text-align: right;\">\n",
       "      <th></th>\n",
       "      <th>sales</th>\n",
       "      <th>left</th>\n",
       "    </tr>\n",
       "  </thead>\n",
       "  <tbody>\n",
       "    <tr>\n",
       "      <th>3</th>\n",
       "      <td>hr</td>\n",
       "      <td>0.290934</td>\n",
       "    </tr>\n",
       "    <tr>\n",
       "      <th>2</th>\n",
       "      <td>accounting</td>\n",
       "      <td>0.265971</td>\n",
       "    </tr>\n",
       "    <tr>\n",
       "      <th>9</th>\n",
       "      <td>technical</td>\n",
       "      <td>0.256250</td>\n",
       "    </tr>\n",
       "    <tr>\n",
       "      <th>8</th>\n",
       "      <td>support</td>\n",
       "      <td>0.248991</td>\n",
       "    </tr>\n",
       "    <tr>\n",
       "      <th>7</th>\n",
       "      <td>sales</td>\n",
       "      <td>0.244928</td>\n",
       "    </tr>\n",
       "    <tr>\n",
       "      <th>5</th>\n",
       "      <td>marketing</td>\n",
       "      <td>0.236597</td>\n",
       "    </tr>\n",
       "    <tr>\n",
       "      <th>0</th>\n",
       "      <td>IT</td>\n",
       "      <td>0.222494</td>\n",
       "    </tr>\n",
       "    <tr>\n",
       "      <th>6</th>\n",
       "      <td>product_mng</td>\n",
       "      <td>0.219512</td>\n",
       "    </tr>\n",
       "    <tr>\n",
       "      <th>1</th>\n",
       "      <td>RandD</td>\n",
       "      <td>0.153748</td>\n",
       "    </tr>\n",
       "    <tr>\n",
       "      <th>4</th>\n",
       "      <td>management</td>\n",
       "      <td>0.144444</td>\n",
       "    </tr>\n",
       "  </tbody>\n",
       "</table>\n",
       "</div>"
      ],
      "text/plain": [
       "         sales      left\n",
       "3           hr  0.290934\n",
       "2   accounting  0.265971\n",
       "9    technical  0.256250\n",
       "8      support  0.248991\n",
       "7        sales  0.244928\n",
       "5    marketing  0.236597\n",
       "0           IT  0.222494\n",
       "6  product_mng  0.219512\n",
       "1        RandD  0.153748\n",
       "4   management  0.144444"
      ]
     },
     "execution_count": 15,
     "metadata": {},
     "output_type": "execute_result"
    }
   ],
   "source": [
    "data[['sales', 'left']].groupby(['sales'], as_index=False).mean().sort_values(by='left', ascending=False)"
   ]
  },
  {
   "cell_type": "code",
   "execution_count": 16,
   "id": "82ddee63",
   "metadata": {},
   "outputs": [
    {
     "data": {
      "text/html": [
       "<div>\n",
       "<style scoped>\n",
       "    .dataframe tbody tr th:only-of-type {\n",
       "        vertical-align: middle;\n",
       "    }\n",
       "\n",
       "    .dataframe tbody tr th {\n",
       "        vertical-align: top;\n",
       "    }\n",
       "\n",
       "    .dataframe thead th {\n",
       "        text-align: right;\n",
       "    }\n",
       "</style>\n",
       "<table border=\"1\" class=\"dataframe\">\n",
       "  <thead>\n",
       "    <tr style=\"text-align: right;\">\n",
       "      <th>sales</th>\n",
       "      <th>IT</th>\n",
       "      <th>RandD</th>\n",
       "      <th>accounting</th>\n",
       "      <th>hr</th>\n",
       "      <th>management</th>\n",
       "      <th>marketing</th>\n",
       "      <th>product_mng</th>\n",
       "      <th>sales</th>\n",
       "      <th>support</th>\n",
       "      <th>technical</th>\n",
       "    </tr>\n",
       "    <tr>\n",
       "      <th>left</th>\n",
       "      <th></th>\n",
       "      <th></th>\n",
       "      <th></th>\n",
       "      <th></th>\n",
       "      <th></th>\n",
       "      <th></th>\n",
       "      <th></th>\n",
       "      <th></th>\n",
       "      <th></th>\n",
       "      <th></th>\n",
       "    </tr>\n",
       "  </thead>\n",
       "  <tbody>\n",
       "    <tr>\n",
       "      <th>0</th>\n",
       "      <td>954</td>\n",
       "      <td>666</td>\n",
       "      <td>563</td>\n",
       "      <td>524</td>\n",
       "      <td>539</td>\n",
       "      <td>655</td>\n",
       "      <td>704</td>\n",
       "      <td>3126</td>\n",
       "      <td>1674</td>\n",
       "      <td>2023</td>\n",
       "    </tr>\n",
       "    <tr>\n",
       "      <th>1</th>\n",
       "      <td>273</td>\n",
       "      <td>121</td>\n",
       "      <td>204</td>\n",
       "      <td>215</td>\n",
       "      <td>91</td>\n",
       "      <td>203</td>\n",
       "      <td>198</td>\n",
       "      <td>1014</td>\n",
       "      <td>555</td>\n",
       "      <td>697</td>\n",
       "    </tr>\n",
       "  </tbody>\n",
       "</table>\n",
       "</div>"
      ],
      "text/plain": [
       "sales   IT  RandD  accounting   hr  management  marketing  product_mng  sales  \\\n",
       "left                                                                            \n",
       "0      954    666         563  524         539        655          704   3126   \n",
       "1      273    121         204  215          91        203          198   1014   \n",
       "\n",
       "sales  support  technical  \n",
       "left                       \n",
       "0         1674       2023  \n",
       "1          555        697  "
      ]
     },
     "execution_count": 16,
     "metadata": {},
     "output_type": "execute_result"
    }
   ],
   "source": [
    "pivot = pd.crosstab(data.left, data.sales)\n",
    "pivot"
   ]
  },
  {
   "cell_type": "code",
   "execution_count": 17,
   "id": "a620d9b5",
   "metadata": {},
   "outputs": [
    {
     "name": "stdout",
     "output_type": "stream",
     "text": [
      "p-value is 0.0000\n"
     ]
    }
   ],
   "source": [
    "g, p, dof, expctd = chi2_contingency(pivot)\n",
    "print(\"p-value is %.4f\" % p)"
   ]
  },
  {
   "cell_type": "markdown",
   "id": "9b8930e6",
   "metadata": {},
   "source": [
    "### satisfaction_level"
   ]
  },
  {
   "cell_type": "code",
   "execution_count": 18,
   "id": "11e3eeb3",
   "metadata": {},
   "outputs": [
    {
     "data": {
      "text/plain": [
       "<seaborn.axisgrid.FacetGrid at 0x7faf40867700>"
      ]
     },
     "execution_count": 18,
     "metadata": {},
     "output_type": "execute_result"
    },
    {
     "data": {
      "image/png": "[encoded data removed]",
      "text/plain": [
       "<Figure size 600x300 with 2 Axes>"
      ]
     },
     "metadata": {},
     "output_type": "display_data"
    }
   ],
   "source": [
    "g = sns.FacetGrid(data, col='left')\n",
    "g.map(plt.hist, 'satisfaction_level', bins=10)"
   ]
  },
  {
   "cell_type": "code",
   "execution_count": 19,
   "id": "9d4c806a",
   "metadata": {},
   "outputs": [
    {
     "name": "stdout",
     "output_type": "stream",
     "text": [
      "p-value is 0.0000\n"
     ]
    }
   ],
   "source": [
    "data['satisfaction_level_test'] = data['satisfaction_level'].apply(lambda x: int(x / 0.2))\n",
    "\n",
    "pivot = pd.crosstab(data.left, data.satisfaction_level_test)\n",
    "g, p, dof, expctd = chi2_contingency(pivot)\n",
    "print(\"p-value is %.4f\" % p)\n",
    "data = data.drop(columns=['satisfaction_level_test'])"
   ]
  },
  {
   "cell_type": "markdown",
   "id": "a47869fe",
   "metadata": {},
   "source": [
    "### last_evaluation"
   ]
  },
  {
   "cell_type": "code",
   "execution_count": 20,
   "id": "bbd5dc68",
   "metadata": {},
   "outputs": [
    {
     "data": {
      "text/plain": [
       "<seaborn.axisgrid.FacetGrid at 0x7faf41291990>"
      ]
     },
     "execution_count": 20,
     "metadata": {},
     "output_type": "execute_result"
    },
    {
     "data": {
      "image/png": "[encoded data removed]",
      "text/plain": [
       "<Figure size 600x300 with 2 Axes>"
      ]
     },
     "metadata": {},
     "output_type": "display_data"
    }
   ],
   "source": [
    "g = sns.FacetGrid(data, col='left')\n",
    "g.map(plt.hist, 'last_evaluation', bins=20)"
   ]
  },
  {
   "cell_type": "code",
   "execution_count": 21,
   "id": "96026bd4",
   "metadata": {},
   "outputs": [
    {
     "name": "stdout",
     "output_type": "stream",
     "text": [
      "p-value is 0.0000\n"
     ]
    }
   ],
   "source": [
    "data['last_evaluation_test'] = data['last_evaluation'].apply(lambda x: int(x / 0.2))\n",
    "\n",
    "pivot = pd.crosstab(data.left, data.last_evaluation)\n",
    "g, p, dof, expctd = chi2_contingency(pivot)\n",
    "print(\"p-value is %.4f\" % p)\n",
    "data = data.drop(columns=['last_evaluation_test'])"
   ]
  },
  {
   "cell_type": "markdown",
   "id": "8f1da54a",
   "metadata": {},
   "source": [
    "### number_project"
   ]
  },
  {
   "cell_type": "code",
   "execution_count": 22,
   "id": "b00f419a",
   "metadata": {},
   "outputs": [
    {
     "data": {
      "text/html": [
       "<div>\n",
       "<style scoped>\n",
       "    .dataframe tbody tr th:only-of-type {\n",
       "        vertical-align: middle;\n",
       "    }\n",
       "\n",
       "    .dataframe tbody tr th {\n",
       "        vertical-align: top;\n",
       "    }\n",
       "\n",
       "    .dataframe thead th {\n",
       "        text-align: right;\n",
       "    }\n",
       "</style>\n",
       "<table border=\"1\" class=\"dataframe\">\n",
       "  <thead>\n",
       "    <tr style=\"text-align: right;\">\n",
       "      <th></th>\n",
       "      <th>number_project</th>\n",
       "      <th>left</th>\n",
       "    </tr>\n",
       "  </thead>\n",
       "  <tbody>\n",
       "    <tr>\n",
       "      <th>5</th>\n",
       "      <td>7</td>\n",
       "      <td>1.000000</td>\n",
       "    </tr>\n",
       "    <tr>\n",
       "      <th>4</th>\n",
       "      <td>6</td>\n",
       "      <td>0.557922</td>\n",
       "    </tr>\n",
       "    <tr>\n",
       "      <th>3</th>\n",
       "      <td>5</td>\n",
       "      <td>0.221659</td>\n",
       "    </tr>\n",
       "    <tr>\n",
       "      <th>2</th>\n",
       "      <td>4</td>\n",
       "      <td>0.093700</td>\n",
       "    </tr>\n",
       "    <tr>\n",
       "      <th>1</th>\n",
       "      <td>3</td>\n",
       "      <td>0.017756</td>\n",
       "    </tr>\n",
       "    <tr>\n",
       "      <th>0</th>\n",
       "      <td>2</td>\n",
       "      <td>0.656198</td>\n",
       "    </tr>\n",
       "  </tbody>\n",
       "</table>\n",
       "</div>"
      ],
      "text/plain": [
       "   number_project      left\n",
       "5               7  1.000000\n",
       "4               6  0.557922\n",
       "3               5  0.221659\n",
       "2               4  0.093700\n",
       "1               3  0.017756\n",
       "0               2  0.656198"
      ]
     },
     "execution_count": 22,
     "metadata": {},
     "output_type": "execute_result"
    }
   ],
   "source": [
    "data[['number_project', 'left']].groupby(['number_project'], as_index=False).mean().sort_values(by='number_project', ascending=False)\n"
   ]
  },
  {
   "cell_type": "code",
   "execution_count": 23,
   "id": "a2b99418",
   "metadata": {},
   "outputs": [
    {
     "data": {
      "text/plain": [
       "<seaborn.axisgrid.FacetGrid at 0x7faf41372d70>"
      ]
     },
     "execution_count": 23,
     "metadata": {},
     "output_type": "execute_result"
    },
    {
     "data": {
      "image/png": "[encoded data removed]",
      "text/plain": [
       "<Figure size 600x300 with 2 Axes>"
      ]
     },
     "metadata": {},
     "output_type": "display_data"
    }
   ],
   "source": [
    "g = sns.FacetGrid(data, col='left')\n",
    "g.map(plt.hist, 'number_project')"
   ]
  },
  {
   "cell_type": "code",
   "execution_count": 24,
   "id": "5e40e653",
   "metadata": {},
   "outputs": [
    {
     "name": "stdout",
     "output_type": "stream",
     "text": [
      "p-value is 0.0000\n"
     ]
    }
   ],
   "source": [
    "pivot = pd.crosstab(data.left, data.number_project)\n",
    "g, p, dof, expctd = chi2_contingency(pivot)\n",
    "print(\"p-value is %.4f\" % p)"
   ]
  },
  {
   "cell_type": "markdown",
   "id": "cf8ff2ef",
   "metadata": {},
   "source": [
    "### average_montly_hours"
   ]
  },
  {
   "cell_type": "code",
   "execution_count": 25,
   "id": "77aa9654",
   "metadata": {},
   "outputs": [
    {
     "data": {
      "text/plain": [
       "<seaborn.axisgrid.FacetGrid at 0x7faf41372980>"
      ]
     },
     "execution_count": 25,
     "metadata": {},
     "output_type": "execute_result"
    },
    {
     "data": {
      "image/png": "[encoded data removed]",
      "text/plain": [
       "<Figure size 600x300 with 2 Axes>"
      ]
     },
     "metadata": {},
     "output_type": "display_data"
    }
   ],
   "source": [
    "g = sns.FacetGrid(data, col='left')\n",
    "g.map(plt.hist, 'average_montly_hours', bins=6)"
   ]
  },
  {
   "cell_type": "code",
   "execution_count": 26,
   "id": "e52a5483",
   "metadata": {},
   "outputs": [
    {
     "name": "stdout",
     "output_type": "stream",
     "text": [
      "p-value is 0.0000\n"
     ]
    }
   ],
   "source": [
    "data['average_montly_hours_test'] = data['average_montly_hours'].apply(lambda x: int(x / 50))\n",
    "\n",
    "pivot = pd.crosstab(data.left, data.average_montly_hours_test)\n",
    "g, p, dof, expctd = chi2_contingency(pivot)\n",
    "print(\"p-value is %.4f\" % p)\n",
    "data = data.drop(columns=['average_montly_hours_test'])"
   ]
  },
  {
   "cell_type": "markdown",
   "id": "a0fd75a9",
   "metadata": {},
   "source": [
    "### time_spend_company"
   ]
  },
  {
   "cell_type": "code",
   "execution_count": 27,
   "id": "4985e7c0",
   "metadata": {},
   "outputs": [
    {
     "data": {
      "text/html": [
       "<div>\n",
       "<style scoped>\n",
       "    .dataframe tbody tr th:only-of-type {\n",
       "        vertical-align: middle;\n",
       "    }\n",
       "\n",
       "    .dataframe tbody tr th {\n",
       "        vertical-align: top;\n",
       "    }\n",
       "\n",
       "    .dataframe thead th {\n",
       "        text-align: right;\n",
       "    }\n",
       "</style>\n",
       "<table border=\"1\" class=\"dataframe\">\n",
       "  <thead>\n",
       "    <tr style=\"text-align: right;\">\n",
       "      <th></th>\n",
       "      <th>time_spend_company</th>\n",
       "      <th>left</th>\n",
       "    </tr>\n",
       "  </thead>\n",
       "  <tbody>\n",
       "    <tr>\n",
       "      <th>3</th>\n",
       "      <td>5</td>\n",
       "      <td>0.565513</td>\n",
       "    </tr>\n",
       "    <tr>\n",
       "      <th>2</th>\n",
       "      <td>4</td>\n",
       "      <td>0.348064</td>\n",
       "    </tr>\n",
       "    <tr>\n",
       "      <th>4</th>\n",
       "      <td>6</td>\n",
       "      <td>0.291086</td>\n",
       "    </tr>\n",
       "    <tr>\n",
       "      <th>1</th>\n",
       "      <td>3</td>\n",
       "      <td>0.246159</td>\n",
       "    </tr>\n",
       "    <tr>\n",
       "      <th>0</th>\n",
       "      <td>2</td>\n",
       "      <td>0.016338</td>\n",
       "    </tr>\n",
       "    <tr>\n",
       "      <th>5</th>\n",
       "      <td>7</td>\n",
       "      <td>0.000000</td>\n",
       "    </tr>\n",
       "    <tr>\n",
       "      <th>6</th>\n",
       "      <td>8</td>\n",
       "      <td>0.000000</td>\n",
       "    </tr>\n",
       "    <tr>\n",
       "      <th>7</th>\n",
       "      <td>10</td>\n",
       "      <td>0.000000</td>\n",
       "    </tr>\n",
       "  </tbody>\n",
       "</table>\n",
       "</div>"
      ],
      "text/plain": [
       "   time_spend_company      left\n",
       "3                   5  0.565513\n",
       "2                   4  0.348064\n",
       "4                   6  0.291086\n",
       "1                   3  0.246159\n",
       "0                   2  0.016338\n",
       "5                   7  0.000000\n",
       "6                   8  0.000000\n",
       "7                  10  0.000000"
      ]
     },
     "execution_count": 27,
     "metadata": {},
     "output_type": "execute_result"
    }
   ],
   "source": [
    "data[['time_spend_company', 'left']].groupby(['time_spend_company'], as_index=False).mean().sort_values(by='left', ascending=False)\n"
   ]
  },
  {
   "cell_type": "code",
   "execution_count": 28,
   "id": "c75a6d09",
   "metadata": {},
   "outputs": [
    {
     "data": {
      "text/plain": [
       "<seaborn.axisgrid.FacetGrid at 0x7faf400e66b0>"
      ]
     },
     "execution_count": 28,
     "metadata": {},
     "output_type": "execute_result"
    },
    {
     "data": {
      "image/png": "[encoded data removed]",
      "text/plain": [
       "<Figure size 600x300 with 2 Axes>"
      ]
     },
     "metadata": {},
     "output_type": "display_data"
    }
   ],
   "source": [
    "g = sns.FacetGrid(data, col='left')\n",
    "g.map(plt.hist, 'time_spend_company')"
   ]
  },
  {
   "cell_type": "code",
   "execution_count": 29,
   "id": "70e8e8de",
   "metadata": {},
   "outputs": [
    {
     "name": "stdout",
     "output_type": "stream",
     "text": [
      "p-value is 0.0000\n"
     ]
    }
   ],
   "source": [
    "pivot = pd.crosstab(data.left, data.time_spend_company)\n",
    "g, p, dof, expctd = chi2_contingency(pivot)\n",
    "print(\"p-value is %.4f\" % p)"
   ]
  },
  {
   "cell_type": "markdown",
   "id": "ca776705",
   "metadata": {},
   "source": [
    "### Work_accident"
   ]
  },
  {
   "cell_type": "code",
   "execution_count": 30,
   "id": "c6f653f7",
   "metadata": {
    "scrolled": true
   },
   "outputs": [
    {
     "data": {
      "text/html": [
       "<div>\n",
       "<style scoped>\n",
       "    .dataframe tbody tr th:only-of-type {\n",
       "        vertical-align: middle;\n",
       "    }\n",
       "\n",
       "    .dataframe tbody tr th {\n",
       "        vertical-align: top;\n",
       "    }\n",
       "\n",
       "    .dataframe thead th {\n",
       "        text-align: right;\n",
       "    }\n",
       "</style>\n",
       "<table border=\"1\" class=\"dataframe\">\n",
       "  <thead>\n",
       "    <tr style=\"text-align: right;\">\n",
       "      <th></th>\n",
       "      <th>Work_accident</th>\n",
       "      <th>left</th>\n",
       "    </tr>\n",
       "  </thead>\n",
       "  <tbody>\n",
       "    <tr>\n",
       "      <th>0</th>\n",
       "      <td>0</td>\n",
       "      <td>0.265160</td>\n",
       "    </tr>\n",
       "    <tr>\n",
       "      <th>1</th>\n",
       "      <td>1</td>\n",
       "      <td>0.077916</td>\n",
       "    </tr>\n",
       "  </tbody>\n",
       "</table>\n",
       "</div>"
      ],
      "text/plain": [
       "   Work_accident      left\n",
       "0              0  0.265160\n",
       "1              1  0.077916"
      ]
     },
     "execution_count": 30,
     "metadata": {},
     "output_type": "execute_result"
    }
   ],
   "source": [
    "data[['Work_accident', 'left']].groupby(['Work_accident'], as_index=False).mean().sort_values(by='left', ascending=False)\n"
   ]
  },
  {
   "cell_type": "code",
   "execution_count": 31,
   "id": "cb1e8a65",
   "metadata": {},
   "outputs": [
    {
     "data": {
      "text/plain": [
       "<seaborn.axisgrid.FacetGrid at 0x7faf41d583a0>"
      ]
     },
     "execution_count": 31,
     "metadata": {},
     "output_type": "execute_result"
    },
    {
     "data": {
      "image/png": "[encoded data removed]",
      "text/plain": [
       "<Figure size 600x300 with 2 Axes>"
      ]
     },
     "metadata": {},
     "output_type": "display_data"
    }
   ],
   "source": [
    "g = sns.FacetGrid(data, col='left')\n",
    "g.map(plt.hist, 'Work_accident')"
   ]
  },
  {
   "cell_type": "code",
   "execution_count": 32,
   "id": "c59a66c3",
   "metadata": {},
   "outputs": [
    {
     "name": "stdout",
     "output_type": "stream",
     "text": [
      "p-value is 0.0000\n"
     ]
    }
   ],
   "source": [
    "pivot = pd.crosstab(data.left, data.Work_accident)\n",
    "g, p, dof, expctd = chi2_contingency(pivot)\n",
    "print(\"p-value is %.4f\" % p)"
   ]
  },
  {
   "cell_type": "markdown",
   "id": "7a3bb07e",
   "metadata": {},
   "source": [
    "### promotion_last_5years"
   ]
  },
  {
   "cell_type": "code",
   "execution_count": 33,
   "id": "27774dc2",
   "metadata": {},
   "outputs": [
    {
     "data": {
      "text/html": [
       "<div>\n",
       "<style scoped>\n",
       "    .dataframe tbody tr th:only-of-type {\n",
       "        vertical-align: middle;\n",
       "    }\n",
       "\n",
       "    .dataframe tbody tr th {\n",
       "        vertical-align: top;\n",
       "    }\n",
       "\n",
       "    .dataframe thead th {\n",
       "        text-align: right;\n",
       "    }\n",
       "</style>\n",
       "<table border=\"1\" class=\"dataframe\">\n",
       "  <thead>\n",
       "    <tr style=\"text-align: right;\">\n",
       "      <th></th>\n",
       "      <th>promotion_last_5years</th>\n",
       "      <th>left</th>\n",
       "    </tr>\n",
       "  </thead>\n",
       "  <tbody>\n",
       "    <tr>\n",
       "      <th>0</th>\n",
       "      <td>0</td>\n",
       "      <td>0.241962</td>\n",
       "    </tr>\n",
       "    <tr>\n",
       "      <th>1</th>\n",
       "      <td>1</td>\n",
       "      <td>0.059561</td>\n",
       "    </tr>\n",
       "  </tbody>\n",
       "</table>\n",
       "</div>"
      ],
      "text/plain": [
       "   promotion_last_5years      left\n",
       "0                      0  0.241962\n",
       "1                      1  0.059561"
      ]
     },
     "execution_count": 33,
     "metadata": {},
     "output_type": "execute_result"
    }
   ],
   "source": [
    "data[['promotion_last_5years', 'left']].groupby(['promotion_last_5years'], as_index=False).mean().sort_values(by='left', ascending=False)\n"
   ]
  },
  {
   "cell_type": "code",
   "execution_count": 34,
   "id": "0e0f6eea",
   "metadata": {},
   "outputs": [
    {
     "data": {
      "text/plain": [
       "<seaborn.axisgrid.FacetGrid at 0x7faf412b87f0>"
      ]
     },
     "execution_count": 34,
     "metadata": {},
     "output_type": "execute_result"
    },
    {
     "data": {
      "image/png": "[encoded data removed]",
      "text/plain": [
       "<Figure size 600x300 with 2 Axes>"
      ]
     },
     "metadata": {},
     "output_type": "display_data"
    }
   ],
   "source": [
    "g = sns.FacetGrid(data, col='left')\n",
    "g.map(plt.hist, 'promotion_last_5years')"
   ]
  },
  {
   "cell_type": "code",
   "execution_count": 35,
   "id": "d7ab46e8",
   "metadata": {},
   "outputs": [
    {
     "name": "stdout",
     "output_type": "stream",
     "text": [
      "p-value is 0.0000\n"
     ]
    }
   ],
   "source": [
    "pivot = pd.crosstab(data.left, data.promotion_last_5years)\n",
    "g, p, dof, expctd = chi2_contingency(pivot)\n",
    "print(\"p-value is %.4f\" % p)"
   ]
  },
  {
   "cell_type": "markdown",
   "id": "5e517566",
   "metadata": {},
   "source": [
    "# Data Preprocessing"
   ]
  },
  {
   "cell_type": "markdown",
   "id": "8bcccb20",
   "metadata": {},
   "source": [
    "## encoding"
   ]
  },
  {
   "cell_type": "code",
   "execution_count": 36,
   "id": "65229159",
   "metadata": {},
   "outputs": [
    {
     "data": {
      "text/html": [
       "<div>\n",
       "<style scoped>\n",
       "    .dataframe tbody tr th:only-of-type {\n",
       "        vertical-align: middle;\n",
       "    }\n",
       "\n",
       "    .dataframe tbody tr th {\n",
       "        vertical-align: top;\n",
       "    }\n",
       "\n",
       "    .dataframe thead th {\n",
       "        text-align: right;\n",
       "    }\n",
       "</style>\n",
       "<table border=\"1\" class=\"dataframe\">\n",
       "  <thead>\n",
       "    <tr style=\"text-align: right;\">\n",
       "      <th></th>\n",
       "      <th>satisfaction_level</th>\n",
       "      <th>last_evaluation</th>\n",
       "      <th>number_project</th>\n",
       "      <th>average_montly_hours</th>\n",
       "      <th>time_spend_company</th>\n",
       "      <th>Work_accident</th>\n",
       "      <th>left</th>\n",
       "      <th>promotion_last_5years</th>\n",
       "      <th>sales</th>\n",
       "      <th>salary</th>\n",
       "    </tr>\n",
       "  </thead>\n",
       "  <tbody>\n",
       "    <tr>\n",
       "      <th>0</th>\n",
       "      <td>0.38</td>\n",
       "      <td>0.53</td>\n",
       "      <td>2</td>\n",
       "      <td>157</td>\n",
       "      <td>3</td>\n",
       "      <td>0</td>\n",
       "      <td>1</td>\n",
       "      <td>0</td>\n",
       "      <td>sales</td>\n",
       "      <td>2</td>\n",
       "    </tr>\n",
       "    <tr>\n",
       "      <th>1</th>\n",
       "      <td>0.80</td>\n",
       "      <td>0.86</td>\n",
       "      <td>5</td>\n",
       "      <td>262</td>\n",
       "      <td>6</td>\n",
       "      <td>0</td>\n",
       "      <td>1</td>\n",
       "      <td>0</td>\n",
       "      <td>sales</td>\n",
       "      <td>1</td>\n",
       "    </tr>\n",
       "    <tr>\n",
       "      <th>2</th>\n",
       "      <td>0.11</td>\n",
       "      <td>0.88</td>\n",
       "      <td>7</td>\n",
       "      <td>272</td>\n",
       "      <td>4</td>\n",
       "      <td>0</td>\n",
       "      <td>1</td>\n",
       "      <td>0</td>\n",
       "      <td>sales</td>\n",
       "      <td>1</td>\n",
       "    </tr>\n",
       "    <tr>\n",
       "      <th>3</th>\n",
       "      <td>0.72</td>\n",
       "      <td>0.87</td>\n",
       "      <td>5</td>\n",
       "      <td>223</td>\n",
       "      <td>5</td>\n",
       "      <td>0</td>\n",
       "      <td>1</td>\n",
       "      <td>0</td>\n",
       "      <td>sales</td>\n",
       "      <td>2</td>\n",
       "    </tr>\n",
       "    <tr>\n",
       "      <th>4</th>\n",
       "      <td>0.37</td>\n",
       "      <td>0.52</td>\n",
       "      <td>2</td>\n",
       "      <td>159</td>\n",
       "      <td>3</td>\n",
       "      <td>0</td>\n",
       "      <td>1</td>\n",
       "      <td>0</td>\n",
       "      <td>sales</td>\n",
       "      <td>2</td>\n",
       "    </tr>\n",
       "  </tbody>\n",
       "</table>\n",
       "</div>"
      ],
      "text/plain": [
       "   satisfaction_level  last_evaluation  number_project  average_montly_hours  \\\n",
       "0                0.38             0.53               2                   157   \n",
       "1                0.80             0.86               5                   262   \n",
       "2                0.11             0.88               7                   272   \n",
       "3                0.72             0.87               5                   223   \n",
       "4                0.37             0.52               2                   159   \n",
       "\n",
       "   time_spend_company  Work_accident  left  promotion_last_5years  sales  \\\n",
       "0                   3              0     1                      0  sales   \n",
       "1                   6              0     1                      0  sales   \n",
       "2                   4              0     1                      0  sales   \n",
       "3                   5              0     1                      0  sales   \n",
       "4                   3              0     1                      0  sales   \n",
       "\n",
       "   salary  \n",
       "0       2  \n",
       "1       1  \n",
       "2       1  \n",
       "3       2  \n",
       "4       2  "
      ]
     },
     "execution_count": 36,
     "metadata": {},
     "output_type": "execute_result"
    }
   ],
   "source": [
    "data['salary'] = data['salary'].map({'high': 0, 'medium': 1, 'low': 2} ).astype(int)\n",
    "data.head()"
   ]
  },
  {
   "cell_type": "code",
   "execution_count": 37,
   "id": "deccd843",
   "metadata": {},
   "outputs": [],
   "source": [
    "data = pd.get_dummies(data)"
   ]
  },
  {
   "cell_type": "code",
   "execution_count": 38,
   "id": "a2a2b8ea",
   "metadata": {},
   "outputs": [
    {
     "data": {
      "text/html": [
       "<div>\n",
       "<style scoped>\n",
       "    .dataframe tbody tr th:only-of-type {\n",
       "        vertical-align: middle;\n",
       "    }\n",
       "\n",
       "    .dataframe tbody tr th {\n",
       "        vertical-align: top;\n",
       "    }\n",
       "\n",
       "    .dataframe thead th {\n",
       "        text-align: right;\n",
       "    }\n",
       "</style>\n",
       "<table border=\"1\" class=\"dataframe\">\n",
       "  <thead>\n",
       "    <tr style=\"text-align: right;\">\n",
       "      <th></th>\n",
       "      <th>satisfaction_level</th>\n",
       "      <th>last_evaluation</th>\n",
       "      <th>number_project</th>\n",
       "      <th>average_montly_hours</th>\n",
       "      <th>time_spend_company</th>\n",
       "      <th>Work_accident</th>\n",
       "      <th>left</th>\n",
       "      <th>promotion_last_5years</th>\n",
       "      <th>salary</th>\n",
       "      <th>sales_IT</th>\n",
       "      <th>sales_RandD</th>\n",
       "      <th>sales_accounting</th>\n",
       "      <th>sales_hr</th>\n",
       "      <th>sales_management</th>\n",
       "      <th>sales_marketing</th>\n",
       "      <th>sales_product_mng</th>\n",
       "      <th>sales_sales</th>\n",
       "      <th>sales_support</th>\n",
       "      <th>sales_technical</th>\n",
       "    </tr>\n",
       "  </thead>\n",
       "  <tbody>\n",
       "    <tr>\n",
       "      <th>0</th>\n",
       "      <td>0.38</td>\n",
       "      <td>0.53</td>\n",
       "      <td>2</td>\n",
       "      <td>157</td>\n",
       "      <td>3</td>\n",
       "      <td>0</td>\n",
       "      <td>1</td>\n",
       "      <td>0</td>\n",
       "      <td>2</td>\n",
       "      <td>0</td>\n",
       "      <td>0</td>\n",
       "      <td>0</td>\n",
       "      <td>0</td>\n",
       "      <td>0</td>\n",
       "      <td>0</td>\n",
       "      <td>0</td>\n",
       "      <td>1</td>\n",
       "      <td>0</td>\n",
       "      <td>0</td>\n",
       "    </tr>\n",
       "    <tr>\n",
       "      <th>1</th>\n",
       "      <td>0.80</td>\n",
       "      <td>0.86</td>\n",
       "      <td>5</td>\n",
       "      <td>262</td>\n",
       "      <td>6</td>\n",
       "      <td>0</td>\n",
       "      <td>1</td>\n",
       "      <td>0</td>\n",
       "      <td>1</td>\n",
       "      <td>0</td>\n",
       "      <td>0</td>\n",
       "      <td>0</td>\n",
       "      <td>0</td>\n",
       "      <td>0</td>\n",
       "      <td>0</td>\n",
       "      <td>0</td>\n",
       "      <td>1</td>\n",
       "      <td>0</td>\n",
       "      <td>0</td>\n",
       "    </tr>\n",
       "    <tr>\n",
       "      <th>2</th>\n",
       "      <td>0.11</td>\n",
       "      <td>0.88</td>\n",
       "      <td>7</td>\n",
       "      <td>272</td>\n",
       "      <td>4</td>\n",
       "      <td>0</td>\n",
       "      <td>1</td>\n",
       "      <td>0</td>\n",
       "      <td>1</td>\n",
       "      <td>0</td>\n",
       "      <td>0</td>\n",
       "      <td>0</td>\n",
       "      <td>0</td>\n",
       "      <td>0</td>\n",
       "      <td>0</td>\n",
       "      <td>0</td>\n",
       "      <td>1</td>\n",
       "      <td>0</td>\n",
       "      <td>0</td>\n",
       "    </tr>\n",
       "    <tr>\n",
       "      <th>3</th>\n",
       "      <td>0.72</td>\n",
       "      <td>0.87</td>\n",
       "      <td>5</td>\n",
       "      <td>223</td>\n",
       "      <td>5</td>\n",
       "      <td>0</td>\n",
       "      <td>1</td>\n",
       "      <td>0</td>\n",
       "      <td>2</td>\n",
       "      <td>0</td>\n",
       "      <td>0</td>\n",
       "      <td>0</td>\n",
       "      <td>0</td>\n",
       "      <td>0</td>\n",
       "      <td>0</td>\n",
       "      <td>0</td>\n",
       "      <td>1</td>\n",
       "      <td>0</td>\n",
       "      <td>0</td>\n",
       "    </tr>\n",
       "    <tr>\n",
       "      <th>4</th>\n",
       "      <td>0.37</td>\n",
       "      <td>0.52</td>\n",
       "      <td>2</td>\n",
       "      <td>159</td>\n",
       "      <td>3</td>\n",
       "      <td>0</td>\n",
       "      <td>1</td>\n",
       "      <td>0</td>\n",
       "      <td>2</td>\n",
       "      <td>0</td>\n",
       "      <td>0</td>\n",
       "      <td>0</td>\n",
       "      <td>0</td>\n",
       "      <td>0</td>\n",
       "      <td>0</td>\n",
       "      <td>0</td>\n",
       "      <td>1</td>\n",
       "      <td>0</td>\n",
       "      <td>0</td>\n",
       "    </tr>\n",
       "    <tr>\n",
       "      <th>...</th>\n",
       "      <td>...</td>\n",
       "      <td>...</td>\n",
       "      <td>...</td>\n",
       "      <td>...</td>\n",
       "      <td>...</td>\n",
       "      <td>...</td>\n",
       "      <td>...</td>\n",
       "      <td>...</td>\n",
       "      <td>...</td>\n",
       "      <td>...</td>\n",
       "      <td>...</td>\n",
       "      <td>...</td>\n",
       "      <td>...</td>\n",
       "      <td>...</td>\n",
       "      <td>...</td>\n",
       "      <td>...</td>\n",
       "      <td>...</td>\n",
       "      <td>...</td>\n",
       "      <td>...</td>\n",
       "    </tr>\n",
       "    <tr>\n",
       "      <th>14994</th>\n",
       "      <td>0.40</td>\n",
       "      <td>0.57</td>\n",
       "      <td>2</td>\n",
       "      <td>151</td>\n",
       "      <td>3</td>\n",
       "      <td>0</td>\n",
       "      <td>1</td>\n",
       "      <td>0</td>\n",
       "      <td>2</td>\n",
       "      <td>0</td>\n",
       "      <td>0</td>\n",
       "      <td>0</td>\n",
       "      <td>0</td>\n",
       "      <td>0</td>\n",
       "      <td>0</td>\n",
       "      <td>0</td>\n",
       "      <td>0</td>\n",
       "      <td>1</td>\n",
       "      <td>0</td>\n",
       "    </tr>\n",
       "    <tr>\n",
       "      <th>14995</th>\n",
       "      <td>0.37</td>\n",
       "      <td>0.48</td>\n",
       "      <td>2</td>\n",
       "      <td>160</td>\n",
       "      <td>3</td>\n",
       "      <td>0</td>\n",
       "      <td>1</td>\n",
       "      <td>0</td>\n",
       "      <td>2</td>\n",
       "      <td>0</td>\n",
       "      <td>0</td>\n",
       "      <td>0</td>\n",
       "      <td>0</td>\n",
       "      <td>0</td>\n",
       "      <td>0</td>\n",
       "      <td>0</td>\n",
       "      <td>0</td>\n",
       "      <td>1</td>\n",
       "      <td>0</td>\n",
       "    </tr>\n",
       "    <tr>\n",
       "      <th>14996</th>\n",
       "      <td>0.37</td>\n",
       "      <td>0.53</td>\n",
       "      <td>2</td>\n",
       "      <td>143</td>\n",
       "      <td>3</td>\n",
       "      <td>0</td>\n",
       "      <td>1</td>\n",
       "      <td>0</td>\n",
       "      <td>2</td>\n",
       "      <td>0</td>\n",
       "      <td>0</td>\n",
       "      <td>0</td>\n",
       "      <td>0</td>\n",
       "      <td>0</td>\n",
       "      <td>0</td>\n",
       "      <td>0</td>\n",
       "      <td>0</td>\n",
       "      <td>1</td>\n",
       "      <td>0</td>\n",
       "    </tr>\n",
       "    <tr>\n",
       "      <th>14997</th>\n",
       "      <td>0.11</td>\n",
       "      <td>0.96</td>\n",
       "      <td>6</td>\n",
       "      <td>280</td>\n",
       "      <td>4</td>\n",
       "      <td>0</td>\n",
       "      <td>1</td>\n",
       "      <td>0</td>\n",
       "      <td>2</td>\n",
       "      <td>0</td>\n",
       "      <td>0</td>\n",
       "      <td>0</td>\n",
       "      <td>0</td>\n",
       "      <td>0</td>\n",
       "      <td>0</td>\n",
       "      <td>0</td>\n",
       "      <td>0</td>\n",
       "      <td>1</td>\n",
       "      <td>0</td>\n",
       "    </tr>\n",
       "    <tr>\n",
       "      <th>14998</th>\n",
       "      <td>0.37</td>\n",
       "      <td>0.52</td>\n",
       "      <td>2</td>\n",
       "      <td>158</td>\n",
       "      <td>3</td>\n",
       "      <td>0</td>\n",
       "      <td>1</td>\n",
       "      <td>0</td>\n",
       "      <td>2</td>\n",
       "      <td>0</td>\n",
       "      <td>0</td>\n",
       "      <td>0</td>\n",
       "      <td>0</td>\n",
       "      <td>0</td>\n",
       "      <td>0</td>\n",
       "      <td>0</td>\n",
       "      <td>0</td>\n",
       "      <td>1</td>\n",
       "      <td>0</td>\n",
       "    </tr>\n",
       "  </tbody>\n",
       "</table>\n",
       "<p>14999 rows × 19 columns</p>\n",
       "</div>"
      ],
      "text/plain": [
       "       satisfaction_level  last_evaluation  number_project  \\\n",
       "0                    0.38             0.53               2   \n",
       "1                    0.80             0.86               5   \n",
       "2                    0.11             0.88               7   \n",
       "3                    0.72             0.87               5   \n",
       "4                    0.37             0.52               2   \n",
       "...                   ...              ...             ...   \n",
       "14994                0.40             0.57               2   \n",
       "14995                0.37             0.48               2   \n",
       "14996                0.37             0.53               2   \n",
       "14997                0.11             0.96               6   \n",
       "14998                0.37             0.52               2   \n",
       "\n",
       "       average_montly_hours  time_spend_company  Work_accident  left  \\\n",
       "0                       157                   3              0     1   \n",
       "1                       262                   6              0     1   \n",
       "2                       272                   4              0     1   \n",
       "3                       223                   5              0     1   \n",
       "4                       159                   3              0     1   \n",
       "...                     ...                 ...            ...   ...   \n",
       "14994                   151                   3              0     1   \n",
       "14995                   160                   3              0     1   \n",
       "14996                   143                   3              0     1   \n",
       "14997                   280                   4              0     1   \n",
       "14998                   158                   3              0     1   \n",
       "\n",
       "       promotion_last_5years  salary  sales_IT  sales_RandD  sales_accounting  \\\n",
       "0                          0       2         0            0                 0   \n",
       "1                          0       1         0            0                 0   \n",
       "2                          0       1         0            0                 0   \n",
       "3                          0       2         0            0                 0   \n",
       "4                          0       2         0            0                 0   \n",
       "...                      ...     ...       ...          ...               ...   \n",
       "14994                      0       2         0            0                 0   \n",
       "14995                      0       2         0            0                 0   \n",
       "14996                      0       2         0            0                 0   \n",
       "14997                      0       2         0            0                 0   \n",
       "14998                      0       2         0            0                 0   \n",
       "\n",
       "       sales_hr  sales_management  sales_marketing  sales_product_mng  \\\n",
       "0             0                 0                0                  0   \n",
       "1             0                 0                0                  0   \n",
       "2             0                 0                0                  0   \n",
       "3             0                 0                0                  0   \n",
       "4             0                 0                0                  0   \n",
       "...         ...               ...              ...                ...   \n",
       "14994         0                 0                0                  0   \n",
       "14995         0                 0                0                  0   \n",
       "14996         0                 0                0                  0   \n",
       "14997         0                 0                0                  0   \n",
       "14998         0                 0                0                  0   \n",
       "\n",
       "       sales_sales  sales_support  sales_technical  \n",
       "0                1              0                0  \n",
       "1                1              0                0  \n",
       "2                1              0                0  \n",
       "3                1              0                0  \n",
       "4                1              0                0  \n",
       "...            ...            ...              ...  \n",
       "14994            0              1                0  \n",
       "14995            0              1                0  \n",
       "14996            0              1                0  \n",
       "14997            0              1                0  \n",
       "14998            0              1                0  \n",
       "\n",
       "[14999 rows x 19 columns]"
      ]
     },
     "execution_count": 38,
     "metadata": {},
     "output_type": "execute_result"
    }
   ],
   "source": [
    "data"
   ]
  },
  {
   "cell_type": "markdown",
   "id": "5fe863f6",
   "metadata": {},
   "source": [
    "# Model Build up"
   ]
  },
  {
   "cell_type": "markdown",
   "id": "d1a8b047",
   "metadata": {},
   "source": [
    "## Baseline"
   ]
  },
  {
   "cell_type": "markdown",
   "id": "73ff0fc4",
   "metadata": {},
   "source": [
    "### Define training set and test set"
   ]
  },
  {
   "cell_type": "code",
   "execution_count": 39,
   "id": "14c73eb9",
   "metadata": {},
   "outputs": [],
   "source": [
    "X, y = data.drop(columns=['left']), data['left']\n",
    "X_train, X_test, y_train, y_test = train_test_split(X, y, stratify=y, test_size=0.2, random_state=42)"
   ]
  },
  {
   "cell_type": "markdown",
   "id": "6f151d5a",
   "metadata": {},
   "source": [
    "### Compare common ML models"
   ]
  },
  {
   "cell_type": "code",
   "execution_count": 40,
   "id": "ba866104",
   "metadata": {},
   "outputs": [],
   "source": [
    "models = {\n",
    "    'XGBoost': XGBClassifier(),\n",
    "    'GBDT': GradientBoostingClassifier(),\n",
    "    'Random Forest': RandomForestClassifier(),\n",
    "    'AdaBoost': AdaBoostClassifier(),\n",
    "    'Extra Trees': ExtraTreesClassifier(),\n",
    "    'Decision Tree': DecisionTreeClassifier()\n",
    "}"
   ]
  },
  {
   "cell_type": "code",
   "execution_count": 41,
   "id": "924077b3",
   "metadata": {},
   "outputs": [
    {
     "name": "stdout",
     "output_type": "stream",
     "text": [
      "XGBoost: 0.9876\n",
      "GBDT: 0.9766\n",
      "Random Forest: 0.9906\n",
      "AdaBoost: 0.9602\n",
      "Extra Trees: 0.9866\n",
      "Decision Tree: 0.9782\n"
     ]
    }
   ],
   "source": [
    "for model_name, classifier in models.items():\n",
    "    model = classifier\n",
    "    model.fit(X_train, y_train)\n",
    "    print(\"%s: %.4f\" % (model_name, cross_val_score(model, X_train, y_train, cv=5).mean()))"
   ]
  },
  {
   "cell_type": "markdown",
   "id": "f62fa2db",
   "metadata": {},
   "source": [
    "### Test best model"
   ]
  },
  {
   "cell_type": "code",
   "execution_count": 42,
   "id": "0cd006f2",
   "metadata": {},
   "outputs": [
    {
     "name": "stdout",
     "output_type": "stream",
     "text": [
      "Training Set:\n",
      "Random Forest: 1.0000\n",
      "Summary\n",
      "               precision    recall  f1-score   support\n",
      "\n",
      "           0       1.00      1.00      1.00      9142\n",
      "           1       1.00      1.00      1.00      2857\n",
      "\n",
      "    accuracy                           1.00     11999\n",
      "   macro avg       1.00      1.00      1.00     11999\n",
      "weighted avg       1.00      1.00      1.00     11999\n",
      "\n",
      "Confusion Matrix:\n",
      " [[9142    0]\n",
      " [   0 2857]]\n",
      "\n",
      "\n",
      "Test Set:\n",
      "Random Forest: 0.9903\n",
      "Summary\n",
      "               precision    recall  f1-score   support\n",
      "\n",
      "           0       0.99      1.00      0.99      2286\n",
      "           1       1.00      0.96      0.98       714\n",
      "\n",
      "    accuracy                           0.99      3000\n",
      "   macro avg       0.99      0.98      0.99      3000\n",
      "weighted avg       0.99      0.99      0.99      3000\n",
      "\n",
      "Confusion Matrix:\n",
      " [[2283    3]\n",
      " [  26  688]]\n",
      "Test Set recall: 0.96359\n"
     ]
    }
   ],
   "source": [
    "rf = RandomForestClassifier()\n",
    "rf.fit(X_train, y_train)\n",
    "y_train_pred = rf.predict(X_train)\n",
    "y_pred = rf.predict(X_test)\n",
    "\n",
    "print(\"Training Set:\")\n",
    "print(\"Random Forest: %.4f\" % rf.score(X_train, y_train))\n",
    "print(\"Summary\\n\", metrics.classification_report(y_train, y_train_pred))\n",
    "print(\"Confusion Matrix:\\n\", metrics.confusion_matrix(y_train, y_train_pred))\n",
    "print('\\n')\n",
    "print(\"Test Set:\")\n",
    "print(\"Random Forest: %.4f\" % rf.score(X_test, y_test))\n",
    "print(\"Summary\\n\", metrics.classification_report(y_test, y_pred))\n",
    "matrix = metrics.confusion_matrix(y_test, y_pred)\n",
    "print(\"Confusion Matrix:\\n\", matrix)\n",
    "print(\"Test Set recall: %.5f\" % (matrix[1, 1] / (matrix[1, 0] + matrix[1, 1])))"
   ]
  },
  {
   "cell_type": "code",
   "execution_count": 43,
   "id": "92d59c2f",
   "metadata": {},
   "outputs": [
    {
     "name": "stdout",
     "output_type": "stream",
     "text": [
      "Training Set:\n",
      "Xgboost: 0.9977\n",
      "Summary\n",
      "               precision    recall  f1-score   support\n",
      "\n",
      "           0       1.00      1.00      1.00      9142\n",
      "           1       1.00      0.99      1.00      2857\n",
      "\n",
      "    accuracy                           1.00     11999\n",
      "   macro avg       1.00      1.00      1.00     11999\n",
      "weighted avg       1.00      1.00      1.00     11999\n",
      "\n",
      "Confusion Matrix:\n",
      " [[9135    7]\n",
      " [  21 2836]]\n",
      "\n",
      "\n",
      "Test Set:\n",
      "Xgboost: 0.9883\n",
      "Summary\n",
      "               precision    recall  f1-score   support\n",
      "\n",
      "           0       0.99      1.00      0.99      2286\n",
      "           1       0.99      0.96      0.98       714\n",
      "\n",
      "    accuracy                           0.99      3000\n",
      "   macro avg       0.99      0.98      0.98      3000\n",
      "weighted avg       0.99      0.99      0.99      3000\n",
      "\n",
      "Confusion Matrix:\n",
      " [[2276   10]\n",
      " [  25  689]]\n",
      "Test Set recall: 0.96499\n"
     ]
    }
   ],
   "source": [
    "xgb = XGBClassifier()\n",
    "xgb.fit(X_train, y_train)\n",
    "y_train_pred = xgb.predict(X_train)\n",
    "y_pred = xgb.predict(X_test)\n",
    "\n",
    "print(\"Training Set:\")\n",
    "print(\"Xgboost: %.4f\" % xgb.score(X_train, y_train))\n",
    "print(\"Summary\\n\", metrics.classification_report(y_train, y_train_pred))\n",
    "print(\"Confusion Matrix:\\n\", metrics.confusion_matrix(y_train, y_train_pred))\n",
    "print('\\n')\n",
    "print(\"Test Set:\")\n",
    "print(\"Xgboost: %.4f\" % xgb.score(X_test, y_test))\n",
    "print(\"Summary\\n\", metrics.classification_report(y_test, y_pred))\n",
    "matrix = metrics.confusion_matrix(y_test, y_pred)\n",
    "print(\"Confusion Matrix:\\n\", matrix)\n",
    "print(\"Test Set recall: %.5f\" % (matrix[1, 1] / (matrix[1, 0] + matrix[1, 1])))"
   ]
  },
  {
   "cell_type": "markdown",
   "id": "9e851f22",
   "metadata": {},
   "source": [
    "## Model optimization"
   ]
  },
  {
   "cell_type": "markdown",
   "id": "15b9c858",
   "metadata": {},
   "source": [
    "### hyperparameters tuning"
   ]
  },
  {
   "cell_type": "code",
   "execution_count": 44,
   "id": "84cd4cf3",
   "metadata": {},
   "outputs": [
    {
     "name": "stdout",
     "output_type": "stream",
     "text": [
      "Fitting 5 folds for each of 5 candidates, totalling 25 fits\n",
      "              precision    recall  f1-score   support\n",
      "\n",
      "           0       0.98      0.99      0.98      9142\n",
      "           1       0.96      0.93      0.95      2857\n",
      "\n",
      "    accuracy                           0.98     11999\n",
      "   macro avg       0.97      0.96      0.97     11999\n",
      "weighted avg       0.98      0.98      0.98     11999\n",
      "\n",
      "              precision    recall  f1-score   support\n",
      "\n",
      "           0       0.98      0.99      0.98      2286\n",
      "           1       0.96      0.94      0.95       714\n",
      "\n",
      "    accuracy                           0.98      3000\n",
      "   macro avg       0.97      0.96      0.97      3000\n",
      "weighted avg       0.98      0.98      0.98      3000\n",
      "\n",
      "Optimized hyperparametere {'n_estimators': 160, 'min_samples_split': 10, 'min_samples_leaf': 1, 'max_features': 20, 'max_depth': 5, 'bootstrap': False}\n"
     ]
    }
   ],
   "source": [
    "# Random Forest\n",
    "param_grid = {\n",
    "    'n_estimators': np.arange(100, 301, 20),\n",
    "    'min_samples_split': [2, 5, 10],\n",
    "    \"min_samples_leaf\": np.arange(1, 20, 2),\n",
    "    'max_depth': [3, 5, 7],\n",
    "    'max_features': [3, 5, 10, 20],\n",
    "    'bootstrap': [True, False]       \n",
    "}\n",
    "\n",
    "rs_model = RandomizedSearchCV(RandomForestClassifier(n_jobs=-1, random_state=42),\n",
    "                              param_distributions = param_grid,\n",
    "                              n_iter = 5,\n",
    "                              cv = 5,\n",
    "                              verbose = True,\n",
    "                              refit='recall')\n",
    "\n",
    "\n",
    "rs_model.fit(X_train, y_train)\n",
    "\n",
    "y_train_pred = rs_model.predict(X_train)\n",
    "\n",
    "y_test_pred = rs_model.predict(X_test)\n",
    "\n",
    "print(metrics.classification_report(y_train, y_train_pred))\n",
    "print(metrics.classification_report(y_test, y_test_pred))\n",
    "\n",
    "\n",
    "final_model = rs_model.best_estimator_\n",
    "print('Optimized hyperparametere', rs_model.best_params_)"
   ]
  },
  {
   "cell_type": "code",
   "execution_count": 45,
   "id": "46faa7fa",
   "metadata": {},
   "outputs": [
    {
     "name": "stdout",
     "output_type": "stream",
     "text": [
      "Training Set:\n",
      "Random Forest: 0.9754\n",
      "Summary\n",
      "               precision    recall  f1-score   support\n",
      "\n",
      "           0       0.98      0.99      0.98      9142\n",
      "           1       0.96      0.93      0.95      2857\n",
      "\n",
      "    accuracy                           0.98     11999\n",
      "   macro avg       0.97      0.96      0.97     11999\n",
      "weighted avg       0.98      0.98      0.98     11999\n",
      "\n",
      "Confusion Matrix:\n",
      " [[9044   98]\n",
      " [ 197 2660]]\n",
      "\n",
      "\n",
      "Test Set:\n",
      "Random Forest: 0.9753\n",
      "Summary\n",
      "               precision    recall  f1-score   support\n",
      "\n",
      "           0       0.98      0.99      0.98      2286\n",
      "           1       0.96      0.94      0.95       714\n",
      "\n",
      "    accuracy                           0.98      3000\n",
      "   macro avg       0.97      0.96      0.97      3000\n",
      "weighted avg       0.98      0.98      0.98      3000\n",
      "\n",
      "Confusion Matrix:\n",
      " [[2258   28]\n",
      " [  46  668]]\n",
      "Test Set recall: 0.93557\n"
     ]
    }
   ],
   "source": [
    "rf = RandomForestClassifier(**rs_model.best_params_)\n",
    "rf.fit(X_train, y_train)\n",
    "y_train_pred = rf.predict(X_train)\n",
    "y_pred = rf.predict(X_test)\n",
    "\n",
    "print(\"Training Set:\")\n",
    "print(\"Random Forest: %.4f\" % rf.score(X_train, y_train))\n",
    "print(\"Summary\\n\", metrics.classification_report(y_train, y_train_pred))\n",
    "print(\"Confusion Matrix:\\n\", metrics.confusion_matrix(y_train, y_train_pred))\n",
    "print('\\n')\n",
    "print(\"Test Set:\")\n",
    "print(\"Random Forest: %.4f\" % rf.score(X_test, y_test))\n",
    "print(\"Summary\\n\", metrics.classification_report(y_test, y_pred))\n",
    "matrix = metrics.confusion_matrix(y_test, y_pred)\n",
    "print(\"Confusion Matrix:\\n\", matrix)\n",
    "print(\"Test Set recall: %.5f\" % (matrix[1, 1] / (matrix[1, 0] + matrix[1, 1])))"
   ]
  },
  {
   "cell_type": "code",
   "execution_count": 46,
   "id": "6f6b63ef",
   "metadata": {},
   "outputs": [],
   "source": [
    "# no improvement"
   ]
  },
  {
   "cell_type": "code",
   "execution_count": 47,
   "id": "3d30af0a",
   "metadata": {},
   "outputs": [],
   "source": [
    "# XGBoost\n",
    "grids = {\n",
    "    'learning_rate': 0.1,\n",
    "    'max_depth': 5,\n",
    "    'min_child_weight': 1,\n",
    "    'gamma': 0,\n",
    "    'subsample': 0.8,\n",
    "    'colsample_bytree': 0.8,\n",
    "    'reg_alpha': 1e-5,\n",
    "    'reg_lambda': 1\n",
    "}\n",
    "\n",
    "def tune_lr(X, y, grids, cv=5, learning_rate_grid = [0.01, 0.015, 0.025, 0.05, 0.1]):\n",
    "    param_test0 = {\n",
    "        'learning_rate': learning_rate_grid\n",
    "    }\n",
    "\n",
    "    gsearch = GridSearchCV(\n",
    "        estimator = XGBClassifier(\n",
    "            n_estimators = 140, \n",
    "            **grids,\n",
    "            objective = 'binary:logistic',\n",
    "            nthread = 4,\n",
    "            scale_pos_weight = 1,\n",
    "            seed = 27\n",
    "        ),\n",
    "        param_grid = param_test0,\n",
    "        scoring = 'recall',\n",
    "        n_jobs = 4,\n",
    "        cv = cv\n",
    "    )\n",
    "\n",
    "    gsearch.fit(X, y)\n",
    "    \n",
    "    print(gsearch.best_params_)\n",
    "    print(gsearch.best_score_)\n",
    "    \n",
    "    grids['learning_rate'] = gsearch.best_params_['learning_rate']\n",
    "    \n",
    "def tune_depth_weight(X, y, grids, cv=5, max_depth_grid=[i for i in range(3, 10, 2)], min_child_weight_grid=[i for i in range(1, 6, 2)]):\n",
    "    param_test1 = {\n",
    "        'max_depth': max_depth_grid,\n",
    "        'min_child_weight': min_child_weight_grid\n",
    "    }\n",
    "\n",
    "    gsearch = GridSearchCV(\n",
    "        estimator = XGBClassifier(\n",
    "            n_estimators = 140, \n",
    "            **grids,\n",
    "            objective = 'binary:logistic',\n",
    "            nthread = 4,\n",
    "            scale_pos_weight = 1,\n",
    "            seed = 27\n",
    "        ),\n",
    "        param_grid = param_test1,\n",
    "        scoring = 'recall',\n",
    "        n_jobs = 4,\n",
    "        cv = cv\n",
    "    )\n",
    "\n",
    "    gsearch.fit(X, y)\n",
    "    \n",
    "    print(gsearch.best_params_)\n",
    "    print(gsearch.best_score_)\n",
    "    \n",
    "    grids['max_depth'] = gsearch.best_params_['max_depth']\n",
    "    grids['min_child_weight'] = gsearch.best_params_['min_child_weight']\n",
    "    \n",
    "def tune_gamma(X, y, grids, cv=5, gamma_grid=[i/10.0 for i in range(0, 5)]):\n",
    "    param_test2 = {\n",
    "        'gamma': gamma_grid\n",
    "    }\n",
    "\n",
    "    gsearch = GridSearchCV(\n",
    "        estimator = XGBClassifier(\n",
    "            n_estimators = 140, \n",
    "            **grids,\n",
    "            objective = 'binary:logistic',\n",
    "            nthread = 4,\n",
    "            scale_pos_weight = 1,\n",
    "            seed = 27\n",
    "        ),\n",
    "        param_grid = param_test2,\n",
    "        scoring = 'recall',\n",
    "        n_jobs = 4,\n",
    "        cv = cv\n",
    "    )\n",
    "    gsearch.fit(X, y)\n",
    "    \n",
    "    print(gsearch.best_params_)\n",
    "    print(gsearch.best_score_)\n",
    "    \n",
    "    grids['gamma'] = gsearch.best_params_['gamma']\n",
    "    \n",
    "def tune_sample(X, y, grids, cv=5, subsample_grid=[i/10.0 for i in range(6, 10)], colsample_grid=[i/10.0 for i in range(6, 10)]):\n",
    "    param_test3 = {\n",
    "        'subsample': subsample_grid,\n",
    "        'colsample_bytree': colsample_grid\n",
    "    }\n",
    "    gsearch = GridSearchCV(\n",
    "        estimator = XGBClassifier(\n",
    "            n_estimators = 140, \n",
    "            **grids,\n",
    "            objective = 'binary:logistic',\n",
    "            nthread = 4,\n",
    "            scale_pos_weight = 1,\n",
    "            seed = 27\n",
    "        ),\n",
    "        param_grid = param_test3,\n",
    "        scoring = 'recall',\n",
    "        n_jobs = 4,\n",
    "        cv = cv\n",
    "    )\n",
    "    gsearch.fit(X, y)\n",
    "    \n",
    "    print(gsearch.best_params_)\n",
    "    print(gsearch.best_score_)\n",
    "    \n",
    "    grids['subsample'] = gsearch.best_params_['subsample']\n",
    "    grids['colsample_bytree'] = gsearch.best_params_['colsample_bytree']\n",
    "    \n",
    "def tune_alpha(X, y, grids, cv=5, alpha_grid=[1e-5, 1e-2, 0.1, 1, 100]):\n",
    "    param_test4 = {\n",
    "        'reg_alpha': alpha_grid\n",
    "    }\n",
    "\n",
    "    gsearch = GridSearchCV(\n",
    "        estimator = XGBClassifier(\n",
    "            n_estimators = 140, \n",
    "            **grids,\n",
    "            objective = 'binary:logistic',\n",
    "            nthread = 4,\n",
    "            scale_pos_weight = 1,\n",
    "            seed = 27\n",
    "        ),\n",
    "\n",
    "        param_grid = param_test4,\n",
    "        scoring = 'recall',\n",
    "        n_jobs = 4,\n",
    "        cv = cv\n",
    "    )\n",
    "\n",
    "    gsearch.fit(X, y)\n",
    "    \n",
    "    print(gsearch.best_params_)\n",
    "    print(gsearch.best_score_)\n",
    "    \n",
    "    grids['reg_alpha'] = gsearch.best_params_['reg_alpha']\n",
    "    \n",
    "def tune_lambda(X, y, grids, cv=5, lambda_grid=[1e-5, 1e-2, 0.1, 1, 100]):\n",
    "    param_test5 = {\n",
    "        'reg_lambda': lambda_grid\n",
    "    }\n",
    "\n",
    "    gsearch = GridSearchCV(\n",
    "        estimator = XGBClassifier(\n",
    "            n_estimators = 140, \n",
    "            **grids,\n",
    "            objective = 'binary:logistic',\n",
    "            nthread = 4,\n",
    "            scale_pos_weight = 1,\n",
    "            seed = 27\n",
    "        ),\n",
    "\n",
    "        param_grid = param_test5,\n",
    "        scoring = 'recall',\n",
    "        n_jobs = 4,\n",
    "        cv = cv\n",
    "    )\n",
    "\n",
    "    gsearch.fit(X_train, y_train)\n",
    "    \n",
    "    print(gsearch.best_params_)\n",
    "    print(gsearch.best_score_)\n",
    "    \n",
    "    grids['reg_lambda'] = gsearch.best_params_['reg_lambda']\n",
    "    \n",
    "def tune_XGBoost(X, y, CV=5):\n",
    "    \n",
    "    grids = {\n",
    "        'learning_rate': 0.1,\n",
    "        'max_depth': 5,\n",
    "        'min_child_weight': 1,\n",
    "        'gamma': 0,\n",
    "        'subsample': 0.8,\n",
    "        'colsample_bytree': 0.8,\n",
    "        'reg_alpha': 1e-5,\n",
    "        'reg_lambda': 1\n",
    "    }\n",
    "    \n",
    "    tune_lr(X, y, grids, cv=CV)\n",
    "    tune_depth_weight(X, y, grids, cv=CV)\n",
    "\n",
    "    tune_gamma(X, y, grids, cv=CV)\n",
    "    tune_sample(X, y, grids, cv=CV)\n",
    "    tune_alpha(X, y, grids, cv=CV)\n",
    "    tune_lambda(X, y, grids, cv=CV)\n",
    "    \n",
    "    return grids"
   ]
  },
  {
   "cell_type": "code",
   "execution_count": 48,
   "id": "797cde55",
   "metadata": {},
   "outputs": [
    {
     "name": "stdout",
     "output_type": "stream",
     "text": [
      "{'learning_rate': 0.1}\n",
      "0.9341928649284166\n",
      "{'max_depth': 9, 'min_child_weight': 1}\n",
      "0.9600994452132806\n",
      "{'gamma': 0.1}\n",
      "0.9611490086096041\n",
      "{'colsample_bytree': 0.9, 'subsample': 0.9}\n",
      "0.9632493600969958\n",
      "{'reg_alpha': 1e-05}\n",
      "0.9632493600969958\n",
      "{'reg_lambda': 0.01}\n",
      "0.96850146351022\n"
     ]
    }
   ],
   "source": [
    "grids = tune_XGBoost(X_train, y_train, CV=5)\n",
    "    \n",
    "xgb_classifier = XGBClassifier(\n",
    "    n_estimators = 400, \n",
    "    **grids,\n",
    "    objective = 'binary:logistic',\n",
    "    nthread = 4,\n",
    "    scale_pos_weight = 1,\n",
    "    seed = 42\n",
    ")\n",
    "\n",
    "xgb_classifier.fit(X_train, y_train)\n",
    "\n",
    "y_train_pred = xgb_classifier.predict(X_train)\n",
    "y_pred = xgb_classifier.predict(X_test)"
   ]
  },
  {
   "cell_type": "code",
   "execution_count": 49,
   "id": "18635a5d",
   "metadata": {},
   "outputs": [
    {
     "name": "stdout",
     "output_type": "stream",
     "text": [
      "Training Set:\n",
      "Xgboost: 1.0000\n",
      "Summary\n",
      "               precision    recall  f1-score   support\n",
      "\n",
      "           0       1.00      1.00      1.00      9142\n",
      "           1       1.00      1.00      1.00      2857\n",
      "\n",
      "    accuracy                           1.00     11999\n",
      "   macro avg       1.00      1.00      1.00     11999\n",
      "weighted avg       1.00      1.00      1.00     11999\n",
      "\n",
      "Confusion Matrix:\n",
      " [[9142    0]\n",
      " [   0 2857]]\n",
      "\n",
      "\n",
      "Test Set:\n",
      "Xgboost: 0.9890\n",
      "Summary\n",
      "               precision    recall  f1-score   support\n",
      "\n",
      "           0       0.99      1.00      0.99      2286\n",
      "           1       0.98      0.97      0.98       714\n",
      "\n",
      "    accuracy                           0.99      3000\n",
      "   macro avg       0.99      0.98      0.98      3000\n",
      "weighted avg       0.99      0.99      0.99      3000\n",
      "\n",
      "Confusion Matrix:\n",
      " [[2275   11]\n",
      " [  22  692]]\n",
      "Test Set recall: 0.96919\n"
     ]
    }
   ],
   "source": [
    "print(\"Training Set:\")\n",
    "print(\"Xgboost: %.4f\" % xgb_classifier.score(X_train, y_train))\n",
    "print(\"Summary\\n\", metrics.classification_report(y_train, y_train_pred))\n",
    "print(\"Confusion Matrix:\\n\", metrics.confusion_matrix(y_train, y_train_pred))\n",
    "print('\\n')\n",
    "print(\"Test Set:\")\n",
    "print(\"Xgboost: %.4f\" % xgb_classifier.score(X_test, y_test))\n",
    "print(\"Summary\\n\", metrics.classification_report(y_test, y_pred))\n",
    "matrix = metrics.confusion_matrix(y_test, y_pred)\n",
    "print(\"Confusion Matrix:\\n\", matrix)\n",
    "print(\"Test Set recall: %.5f\" % (matrix[1, 1] / (matrix[1, 0] + matrix[1, 1])))"
   ]
  },
  {
   "cell_type": "markdown",
   "id": "98c1c4b9",
   "metadata": {},
   "source": [
    "### encoding optimization"
   ]
  },
  {
   "cell_type": "code",
   "execution_count": 50,
   "id": "e88333fe",
   "metadata": {},
   "outputs": [],
   "source": [
    "data = pd.read_csv('HR_comma_sep.csv')"
   ]
  },
  {
   "cell_type": "code",
   "execution_count": 51,
   "id": "ba1dba75",
   "metadata": {},
   "outputs": [],
   "source": [
    "data['salary'] = data['salary'].map({'high': 0, 'medium': 1, 'low': 2} ).astype(int)"
   ]
  },
  {
   "cell_type": "code",
   "execution_count": 52,
   "id": "ce64b185",
   "metadata": {},
   "outputs": [],
   "source": [
    "woe_encoder = ce.WOEEncoder(cols='sales')\n",
    "woe_encoded_train = woe_encoder.fit_transform(data['sales'], data['left']).add_suffix('_woe')\n",
    "data = data.join(woe_encoded_train)\n",
    "data = data.drop(columns=['sales'])"
   ]
  },
  {
   "cell_type": "code",
   "execution_count": 53,
   "id": "eda90fb0",
   "metadata": {},
   "outputs": [
    {
     "data": {
      "text/html": [
       "<div>\n",
       "<style scoped>\n",
       "    .dataframe tbody tr th:only-of-type {\n",
       "        vertical-align: middle;\n",
       "    }\n",
       "\n",
       "    .dataframe tbody tr th {\n",
       "        vertical-align: top;\n",
       "    }\n",
       "\n",
       "    .dataframe thead th {\n",
       "        text-align: right;\n",
       "    }\n",
       "</style>\n",
       "<table border=\"1\" class=\"dataframe\">\n",
       "  <thead>\n",
       "    <tr style=\"text-align: right;\">\n",
       "      <th></th>\n",
       "      <th>satisfaction_level</th>\n",
       "      <th>last_evaluation</th>\n",
       "      <th>number_project</th>\n",
       "      <th>average_montly_hours</th>\n",
       "      <th>time_spend_company</th>\n",
       "      <th>Work_accident</th>\n",
       "      <th>left</th>\n",
       "      <th>promotion_last_5years</th>\n",
       "      <th>salary</th>\n",
       "      <th>sales_woe</th>\n",
       "    </tr>\n",
       "  </thead>\n",
       "  <tbody>\n",
       "    <tr>\n",
       "      <th>0</th>\n",
       "      <td>0.38</td>\n",
       "      <td>0.53</td>\n",
       "      <td>2</td>\n",
       "      <td>157</td>\n",
       "      <td>3</td>\n",
       "      <td>0</td>\n",
       "      <td>1</td>\n",
       "      <td>0</td>\n",
       "      <td>2</td>\n",
       "      <td>0.03765</td>\n",
       "    </tr>\n",
       "    <tr>\n",
       "      <th>1</th>\n",
       "      <td>0.80</td>\n",
       "      <td>0.86</td>\n",
       "      <td>5</td>\n",
       "      <td>262</td>\n",
       "      <td>6</td>\n",
       "      <td>0</td>\n",
       "      <td>1</td>\n",
       "      <td>0</td>\n",
       "      <td>1</td>\n",
       "      <td>0.03765</td>\n",
       "    </tr>\n",
       "    <tr>\n",
       "      <th>2</th>\n",
       "      <td>0.11</td>\n",
       "      <td>0.88</td>\n",
       "      <td>7</td>\n",
       "      <td>272</td>\n",
       "      <td>4</td>\n",
       "      <td>0</td>\n",
       "      <td>1</td>\n",
       "      <td>0</td>\n",
       "      <td>1</td>\n",
       "      <td>0.03765</td>\n",
       "    </tr>\n",
       "    <tr>\n",
       "      <th>3</th>\n",
       "      <td>0.72</td>\n",
       "      <td>0.87</td>\n",
       "      <td>5</td>\n",
       "      <td>223</td>\n",
       "      <td>5</td>\n",
       "      <td>0</td>\n",
       "      <td>1</td>\n",
       "      <td>0</td>\n",
       "      <td>2</td>\n",
       "      <td>0.03765</td>\n",
       "    </tr>\n",
       "    <tr>\n",
       "      <th>4</th>\n",
       "      <td>0.37</td>\n",
       "      <td>0.52</td>\n",
       "      <td>2</td>\n",
       "      <td>159</td>\n",
       "      <td>3</td>\n",
       "      <td>0</td>\n",
       "      <td>1</td>\n",
       "      <td>0</td>\n",
       "      <td>2</td>\n",
       "      <td>0.03765</td>\n",
       "    </tr>\n",
       "  </tbody>\n",
       "</table>\n",
       "</div>"
      ],
      "text/plain": [
       "   satisfaction_level  last_evaluation  number_project  average_montly_hours  \\\n",
       "0                0.38             0.53               2                   157   \n",
       "1                0.80             0.86               5                   262   \n",
       "2                0.11             0.88               7                   272   \n",
       "3                0.72             0.87               5                   223   \n",
       "4                0.37             0.52               2                   159   \n",
       "\n",
       "   time_spend_company  Work_accident  left  promotion_last_5years  salary  \\\n",
       "0                   3              0     1                      0       2   \n",
       "1                   6              0     1                      0       1   \n",
       "2                   4              0     1                      0       1   \n",
       "3                   5              0     1                      0       2   \n",
       "4                   3              0     1                      0       2   \n",
       "\n",
       "   sales_woe  \n",
       "0    0.03765  \n",
       "1    0.03765  \n",
       "2    0.03765  \n",
       "3    0.03765  \n",
       "4    0.03765  "
      ]
     },
     "execution_count": 53,
     "metadata": {},
     "output_type": "execute_result"
    }
   ],
   "source": [
    "data.head()"
   ]
  },
  {
   "cell_type": "code",
   "execution_count": 54,
   "id": "fffe2c85",
   "metadata": {},
   "outputs": [
    {
     "data": {
      "text/plain": [
       "(14999, 10)"
      ]
     },
     "execution_count": 54,
     "metadata": {},
     "output_type": "execute_result"
    }
   ],
   "source": [
    "data.shape"
   ]
  },
  {
   "cell_type": "code",
   "execution_count": 55,
   "id": "54f25a82",
   "metadata": {},
   "outputs": [],
   "source": [
    "# X, y = data.drop(columns=['left', 'average_montly_hours', 'number_project']), data['left']\n",
    "X, y = data.drop(columns=['left']), data['left']\n",
    "X_train, X_test, y_train, y_test = train_test_split(X, y, stratify=y, test_size=0.2, random_state=42)"
   ]
  },
  {
   "cell_type": "markdown",
   "id": "420f09c2",
   "metadata": {},
   "source": [
    "### test model"
   ]
  },
  {
   "cell_type": "code",
   "execution_count": 56,
   "id": "758adbd7",
   "metadata": {},
   "outputs": [],
   "source": [
    "# random forest"
   ]
  },
  {
   "cell_type": "code",
   "execution_count": 57,
   "id": "6c2f7fec",
   "metadata": {},
   "outputs": [
    {
     "name": "stdout",
     "output_type": "stream",
     "text": [
      "Training Set:\n",
      "Random Forest: 1.0000\n",
      "Summary\n",
      "               precision    recall  f1-score   support\n",
      "\n",
      "           0       1.00      1.00      1.00      9142\n",
      "           1       1.00      1.00      1.00      2857\n",
      "\n",
      "    accuracy                           1.00     11999\n",
      "   macro avg       1.00      1.00      1.00     11999\n",
      "weighted avg       1.00      1.00      1.00     11999\n",
      "\n",
      "Confusion Matrix:\n",
      " [[9142    0]\n",
      " [   0 2857]]\n",
      "\n",
      "\n",
      "Test Set:\n",
      "Random Forest: 0.9910\n",
      "Summary\n",
      "               precision    recall  f1-score   support\n",
      "\n",
      "           0       0.99      1.00      0.99      2286\n",
      "           1       1.00      0.97      0.98       714\n",
      "\n",
      "    accuracy                           0.99      3000\n",
      "   macro avg       0.99      0.98      0.99      3000\n",
      "weighted avg       0.99      0.99      0.99      3000\n",
      "\n",
      "Confusion Matrix:\n",
      " [[2283    3]\n",
      " [  24  690]]\n",
      "Test Set recall: 0.96639\n"
     ]
    }
   ],
   "source": [
    "rf = RandomForestClassifier()\n",
    "rf.fit(X_train, y_train)\n",
    "y_train_pred = rf.predict(X_train)\n",
    "y_pred = rf.predict(X_test)\n",
    "\n",
    "print(\"Training Set:\")\n",
    "print(\"Random Forest: %.4f\" % rf.score(X_train, y_train))\n",
    "print(\"Summary\\n\", metrics.classification_report(y_train, y_train_pred))\n",
    "print(\"Confusion Matrix:\\n\", metrics.confusion_matrix(y_train, y_train_pred))\n",
    "print('\\n')\n",
    "print(\"Test Set:\")\n",
    "print(\"Random Forest: %.4f\" % rf.score(X_test, y_test))\n",
    "print(\"Summary\\n\", metrics.classification_report(y_test, y_pred))\n",
    "matrix = metrics.confusion_matrix(y_test, y_pred)\n",
    "print(\"Confusion Matrix:\\n\", matrix)\n",
    "print(\"Test Set recall: %.5f\" % (matrix[1, 1] / (matrix[1, 0] + matrix[1, 1])))"
   ]
  },
  {
   "cell_type": "code",
   "execution_count": 58,
   "id": "3b7cb0ac",
   "metadata": {},
   "outputs": [],
   "source": [
    "# XGBoost"
   ]
  },
  {
   "cell_type": "code",
   "execution_count": 59,
   "id": "4195f297",
   "metadata": {},
   "outputs": [],
   "source": [
    "xgb_classifier = XGBClassifier(\n",
    "    n_estimators = 400, \n",
    "    **grids,\n",
    "    objective = 'binary:logistic',\n",
    "    nthread = 4,\n",
    "    scale_pos_weight = 1,\n",
    "    seed = 42\n",
    ")\n",
    "\n",
    "xgb_classifier.fit(X_train, y_train)\n",
    "\n",
    "y_train_pred = xgb_classifier.predict(X_train)\n",
    "y_pred = xgb_classifier.predict(X_test)"
   ]
  },
  {
   "cell_type": "code",
   "execution_count": 60,
   "id": "3620f5ac",
   "metadata": {},
   "outputs": [
    {
     "name": "stdout",
     "output_type": "stream",
     "text": [
      "Training Set:\n",
      "Xgboost: 1.0000\n",
      "Summary\n",
      "               precision    recall  f1-score   support\n",
      "\n",
      "           0       1.00      1.00      1.00      9142\n",
      "           1       1.00      1.00      1.00      2857\n",
      "\n",
      "    accuracy                           1.00     11999\n",
      "   macro avg       1.00      1.00      1.00     11999\n",
      "weighted avg       1.00      1.00      1.00     11999\n",
      "\n",
      "Confusion Matrix:\n",
      " [[9142    0]\n",
      " [   0 2857]]\n",
      "\n",
      "\n",
      "Test Set:\n",
      "Xgboost: 0.9887\n",
      "Summary\n",
      "               precision    recall  f1-score   support\n",
      "\n",
      "           0       0.99      0.99      0.99      2286\n",
      "           1       0.98      0.97      0.98       714\n",
      "\n",
      "    accuracy                           0.99      3000\n",
      "   macro avg       0.99      0.98      0.98      3000\n",
      "weighted avg       0.99      0.99      0.99      3000\n",
      "\n",
      "Confusion Matrix:\n",
      " [[2274   12]\n",
      " [  22  692]]\n",
      "Test Set recall: 0.96919\n"
     ]
    }
   ],
   "source": [
    "print(\"Training Set:\")\n",
    "print(\"Xgboost: %.4f\" % xgb_classifier.score(X_train, y_train))\n",
    "print(\"Summary\\n\", metrics.classification_report(y_train, y_train_pred))\n",
    "print(\"Confusion Matrix:\\n\", metrics.confusion_matrix(y_train, y_train_pred))\n",
    "print('\\n')\n",
    "print(\"Test Set:\")\n",
    "print(\"Xgboost: %.4f\" % xgb_classifier.score(X_test, y_test))\n",
    "print(\"Summary\\n\", metrics.classification_report(y_test, y_pred))\n",
    "matrix = metrics.confusion_matrix(y_test, y_pred)\n",
    "print(\"Confusion Matrix:\\n\", matrix)\n",
    "print(\"Test Set recall: %.5f\" % (matrix[1, 1] / (matrix[1, 0] + matrix[1, 1])))"
   ]
  },
  {
   "cell_type": "markdown",
   "id": "b6ef6b36",
   "metadata": {},
   "source": [
    "## Feature importances"
   ]
  },
  {
   "cell_type": "markdown",
   "id": "52e65f3a",
   "metadata": {},
   "source": [
    "### explained using XGBoost"
   ]
  },
  {
   "cell_type": "code",
   "execution_count": 61,
   "id": "91c7832b",
   "metadata": {},
   "outputs": [
    {
     "data": {
      "text/plain": [
       "<AxesSubplot: title={'center': 'Feature importance'}, xlabel='F score', ylabel='Features'>"
      ]
     },
     "execution_count": 61,
     "metadata": {},
     "output_type": "execute_result"
    },
    {
     "data": {
      "image/png": "[encoded data removed]",
      "text/plain": [
       "<Figure size 640x480 with 1 Axes>"
      ]
     },
     "metadata": {},
     "output_type": "display_data"
    }
   ],
   "source": [
    "plot_importance(xgb_classifier)"
   ]
  },
  {
   "cell_type": "code",
   "execution_count": 62,
   "id": "7ba42d12",
   "metadata": {},
   "outputs": [
    {
     "name": "stderr",
     "output_type": "stream",
     "text": [
      "ntree_limit is deprecated, use `iteration_range` or model slicing instead.\n"
     ]
    }
   ],
   "source": [
    "explainer = shap.TreeExplainer(xgb_classifier)\n",
    "shap_values = explainer.shap_values(X_train)"
   ]
  },
  {
   "cell_type": "code",
   "execution_count": 63,
   "id": "be0b5639",
   "metadata": {},
   "outputs": [
    {
     "name": "stderr",
     "output_type": "stream",
     "text": [
      "No data for colormapping provided via 'c'. Parameters 'vmin', 'vmax' will be ignored\n"
     ]
    },
    {
     "data": {
      "image/png": "[encoded data removed]",
      "text/plain": [
       "<Figure size 800x510 with 2 Axes>"
      ]
     },
     "metadata": {},
     "output_type": "display_data"
    }
   ],
   "source": [
    "shap.summary_plot(shap_values, X_train, plot_type='dot')"
   ]
  },
  {
   "cell_type": "markdown",
   "id": "e20e25ae",
   "metadata": {},
   "source": [
    "### explained using Random Forest"
   ]
  },
  {
   "cell_type": "code",
   "execution_count": 64,
   "id": "a1dd02f7",
   "metadata": {},
   "outputs": [],
   "source": [
    "explainer = shap.TreeExplainer(rf)\n",
    "shap_values = explainer.shap_values(X_train)"
   ]
  },
  {
   "cell_type": "code",
   "execution_count": 65,
   "id": "15e5b7c9",
   "metadata": {},
   "outputs": [
    {
     "data": {
      "image/png": "[encoded data removed]",
      "text/plain": [
       "<Figure size 800x510 with 2 Axes>"
      ]
     },
     "metadata": {},
     "output_type": "display_data"
    }
   ],
   "source": [
    "shap.summary_plot(shap_values[1], X_train, plot_type='dot')\n"
   ]
  },
  {
   "cell_type": "code",
   "execution_count": 66,
   "id": "1d42cb81",
   "metadata": {},
   "outputs": [
    {
     "data": {
      "text/plain": [
       "array([0.32495224, 0.11999101, 0.1816339 , 0.15153627, 0.19595325,\n",
       "       0.00459356, 0.00076346, 0.00806915, 0.01250717])"
      ]
     },
     "execution_count": 66,
     "metadata": {},
     "output_type": "execute_result"
    }
   ],
   "source": [
    "rf.feature_importances_"
   ]
  },
  {
   "cell_type": "code",
   "execution_count": 67,
   "id": "7be53c32",
   "metadata": {},
   "outputs": [
    {
     "data": {
      "text/plain": [
       "satisfaction_level       0.324952\n",
       "time_spend_company       0.195953\n",
       "number_project           0.181634\n",
       "average_montly_hours     0.151536\n",
       "last_evaluation          0.119991\n",
       "sales_woe                0.012507\n",
       "salary                   0.008069\n",
       "Work_accident            0.004594\n",
       "promotion_last_5years    0.000763\n",
       "dtype: float64"
      ]
     },
     "execution_count": 67,
     "metadata": {},
     "output_type": "execute_result"
    }
   ],
   "source": [
    "feature_scores = pd.Series(rf.feature_importances_, index=X_train.columns).sort_values(ascending=False)\n",
    "feature_scores"
   ]
  },
  {
   "cell_type": "code",
   "execution_count": 68,
   "id": "720aca29",
   "metadata": {},
   "outputs": [
    {
     "data": {
      "image/png": "[encoded data removed]",
      "text/plain": [
       "<Figure size 1200x800 with 1 Axes>"
      ]
     },
     "metadata": {},
     "output_type": "display_data"
    }
   ],
   "source": [
    "f, ax = plt.subplots(figsize=(12, 8))\n",
    "ax = sns.barplot(x=feature_scores, y=feature_scores.index)\n",
    "ax.set_title(\"Visualize feature scores of the features\")\n",
    "ax.set_yticklabels(feature_scores.index)\n",
    "ax.set_xlabel(\"Feature importance score\")\n",
    "ax.set_ylabel(\"Features\")\n",
    "plt.show()"
   ]
  },
  {
   "cell_type": "markdown",
   "id": "0c385f7c",
   "metadata": {},
   "source": [
    "# Conclusion"
   ]
  },
  {
   "cell_type": "markdown",
   "id": "cd0d6a64",
   "metadata": {},
   "source": [
    "1. correlations are all significant based on Chi-square test"
   ]
  },
  {
   "cell_type": "markdown",
   "id": "990d2319",
   "metadata": {},
   "source": [
    "Further improvement\n",
    "1. more encoding\n",
    "2. deal with imbalance dataset\n",
    "3. interpretability and model performance trade-off, drop one feature, eg average_monthly_hours, model performance\n",
    "drops; adding more features, performance increases while correlated variables can't be interpreted."
   ]
  }
 ],
 "metadata": {
  "kernelspec": {
   "display_name": "Python [conda env:new_env] *",
   "language": "python",
   "name": "conda-env-new_env-py"
  },
  "language_info": {
   "codemirror_mode": {
    "name": "ipython",
    "version": 3
   },
   "file_extension": ".py",
   "mimetype": "text/x-python",
   "name": "python",
   "nbconvert_exporter": "python",
   "pygments_lexer": "ipython3",
   "version": "3.10.6"
  }
 },
 "nbformat": 4,
 "nbformat_minor": 5
}
